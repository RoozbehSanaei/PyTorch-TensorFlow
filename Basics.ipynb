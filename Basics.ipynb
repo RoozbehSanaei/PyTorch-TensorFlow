{
  "nbformat": 4,
  "nbformat_minor": 0,
  "metadata": {
    "colab": {
      "name": "Basics.ipynb",
      "provenance": [],
      "authorship_tag": "ABX9TyOhysmVh8vA7wjsprd8kUW/",
      "include_colab_link": true
    },
    "kernelspec": {
      "name": "python3",
      "display_name": "Python 3"
    },
    "language_info": {
      "name": "python"
    }
  },
  "cells": [
    {
      "cell_type": "markdown",
      "metadata": {
        "id": "view-in-github",
        "colab_type": "text"
      },
      "source": [
        "<a href=\"https://colab.research.google.com/github/RoozbehSanaei/PyTorch-TensorFlow/blob/gh-pages/Basics.ipynb\" target=\"_parent\"><img src=\"https://colab.research.google.com/assets/colab-badge.svg\" alt=\"Open In Colab\"/></a>"
      ]
    },
    {
      "cell_type": "markdown",
      "metadata": {
        "id": "5hY3e16fJ8UX"
      },
      "source": [
        "# Introductory Course to PyTorch and TensorFlow\n"
      ]
    },
    {
      "cell_type": "markdown",
      "metadata": {
        "id": "GHlw36hwHkK1"
      },
      "source": [
        "Many data scientists and machine learning engineers frequently alternate between two main toolboxes: PyTorch and TensorFlow. Both in Python, These frameworks share many similarities, but also diverge in meaningful ways. These differences can make switching between the two frameworks cumbersome and inefficient. In this introductory course we try to learn Pytorch and Tensorflow in one go, In this way we not only hit two bird with one stone but also also understand the differences upfront, so we don't confuse only later on.\n",
        "\n",
        "\n"
      ]
    },
    {
      "cell_type": "markdown",
      "metadata": {
        "id": "ME8Pbo2sVrIg"
      },
      "source": [
        "### *Load TensorFlow and PyTorch*"
      ]
    },
    {
      "cell_type": "markdown",
      "metadata": {
        "id": "bEKw_8FAVrIg"
      },
      "source": [
        "*TensorFlow*"
      ]
    },
    {
      "cell_type": "code",
      "metadata": {
        "colab": {
          "base_uri": "https://localhost:8080/"
        },
        "id": "eHAR5aYWVrIg",
        "outputId": "c93f8a5c-9e7d-44c0-e5b0-e4342cdfe305"
      },
      "source": [
        "import tensorflow as tf\n",
        "print(f\"tensorflow version: {tf.__version__}\")"
      ],
      "execution_count": 16,
      "outputs": [
        {
          "output_type": "stream",
          "text": [
            "tensorflow version: 2.5.0\n"
          ],
          "name": "stdout"
        }
      ]
    },
    {
      "cell_type": "markdown",
      "metadata": {
        "id": "Ya8kzweeVrIh"
      },
      "source": [
        "*PyTorch*"
      ]
    },
    {
      "cell_type": "code",
      "metadata": {
        "id": "I7Coro3wVrIi",
        "outputId": "b26960bd-fe81-4879-debf-b7b416931349",
        "colab": {
          "base_uri": "https://localhost:8080/"
        }
      },
      "source": [
        "import torch\n",
        "print(f\"pytorch version: {torch.__version__}\")"
      ],
      "execution_count": 17,
      "outputs": [
        {
          "output_type": "stream",
          "text": [
            "pytorch version: 1.9.0+cu102\n"
          ],
          "name": "stdout"
        }
      ]
    },
    {
      "cell_type": "markdown",
      "metadata": {
        "id": "LNtznje4NVAb"
      },
      "source": [
        "## Tensors"
      ]
    },
    {
      "cell_type": "markdown",
      "metadata": {
        "id": "nHu3ljCONgEE"
      },
      "source": [
        "### *Constant Tensors*"
      ]
    },
    {
      "cell_type": "markdown",
      "metadata": {
        "id": "uo1xyfp5Oaoa"
      },
      "source": [
        "*TensorFlow*"
      ]
    },
    {
      "cell_type": "code",
      "metadata": {
        "colab": {
          "base_uri": "https://localhost:8080/"
        },
        "id": "K5ceSe20NffT",
        "outputId": "cd9f29a0-8586-48b5-e83f-3f8ab7a8f040"
      },
      "source": [
        "tf_tensor = tf.constant([[1, 2],[3, 4],[5, 6]], dtype=tf.float16)\n",
        "print(tf_tensor)"
      ],
      "execution_count": 24,
      "outputs": [
        {
          "output_type": "stream",
          "text": [
            "tf.Tensor(\n",
            "[[1. 2.]\n",
            " [3. 4.]\n",
            " [5. 6.]], shape=(3, 2), dtype=float16)\n"
          ],
          "name": "stdout"
        }
      ]
    },
    {
      "cell_type": "markdown",
      "metadata": {
        "id": "6pO7WDdyQf_W"
      },
      "source": [
        "*PyTorch*"
      ]
    },
    {
      "cell_type": "code",
      "metadata": {
        "colab": {
          "base_uri": "https://localhost:8080/"
        },
        "id": "8iGXT-vXKCpn",
        "outputId": "6f3aad50-11f0-47a4-b821-368747768054"
      },
      "source": [
        "torch_tensor = torch.HalfTensor([[1, 2],[3, 4],[5, 6]],device=torch.device('cpu'))\n",
        "print(torch_tensor)"
      ],
      "execution_count": 25,
      "outputs": [
        {
          "output_type": "stream",
          "text": [
            "tensor([[1., 2.],\n",
            "        [3., 4.],\n",
            "        [5., 6.]], dtype=torch.float16)\n"
          ],
          "name": "stdout"
        }
      ]
    },
    {
      "cell_type": "markdown",
      "metadata": {
        "id": "8GaPIlNLT2jt"
      },
      "source": [
        "### *Random Tensors*"
      ]
    },
    {
      "cell_type": "markdown",
      "metadata": {
        "id": "PAnbyg89T2j5"
      },
      "source": [
        "*TensorFlow*"
      ]
    },
    {
      "cell_type": "code",
      "metadata": {
        "colab": {
          "base_uri": "https://localhost:8080/"
        },
        "id": "dvLxS1W_T2j6",
        "outputId": "f1c7852d-42a3-42b0-f515-1df342cf1542"
      },
      "source": [
        "tf_tensor =tf.random.uniform([4,4], minval=0, maxval=1, dtype=tf.float32, seed=1)\n",
        "print(tf_tensor)"
      ],
      "execution_count": 26,
      "outputs": [
        {
          "output_type": "stream",
          "text": [
            "tf.Tensor(\n",
            "[[0.4761244  0.809816   0.40282357 0.84008026]\n",
            " [0.5443208  0.30017078 0.5284884  0.0392561 ]\n",
            " [0.633996   0.4664613  0.4333365  0.12171769]\n",
            " [0.23395944 0.4864421  0.13252866 0.9327531 ]], shape=(4, 4), dtype=float32)\n"
          ],
          "name": "stdout"
        }
      ]
    },
    {
      "cell_type": "markdown",
      "metadata": {
        "id": "ZQxVbc6iT2j7"
      },
      "source": [
        "*PyTorch*"
      ]
    },
    {
      "cell_type": "code",
      "metadata": {
        "colab": {
          "base_uri": "https://localhost:8080/"
        },
        "id": "wU0eFREdT2j7",
        "outputId": "a1a7ac47-97da-4c5a-87b9-de600b851fe7"
      },
      "source": [
        " torch_tensor = torch.rand(4,4,device=torch.device('cpu'),dtype=torch.float32)\n",
        " print(torch_tensor)"
      ],
      "execution_count": 27,
      "outputs": [
        {
          "output_type": "stream",
          "text": [
            "tensor([[0.0138, 0.5902, 0.9026, 0.8270],\n",
            "        [0.3200, 0.7839, 0.0012, 0.1650],\n",
            "        [0.9360, 0.3606, 0.2409, 0.3320],\n",
            "        [0.3615, 0.8655, 0.4193, 0.9575]])\n"
          ],
          "name": "stdout"
        }
      ]
    },
    {
      "cell_type": "markdown",
      "metadata": {
        "id": "KNfRtbydJ6nv"
      },
      "source": [
        "Tensors of different datatypes of can be created in PyTorch and TensorFlow\n"
      ]
    },
    {
      "cell_type": "markdown",
      "metadata": {
        "id": "SF0HPTSoWcTA"
      },
      "source": [
        "### *Assignment by Index*"
      ]
    },
    {
      "cell_type": "markdown",
      "metadata": {
        "id": "KXyz7U32W_3U"
      },
      "source": [
        "*TensorFlow*"
      ]
    },
    {
      "cell_type": "code",
      "metadata": {
        "id": "MM3VcYsgJ7zw",
        "outputId": "da0acf04-fc03-4f0e-b9c5-d064cfe8cfe1",
        "colab": {
          "base_uri": "https://localhost:8080/",
          "height": 178
        }
      },
      "source": [
        "tf_tensor = tf.constant([[1, 2],[3, 4],[5, 6]], dtype=tf.float16)\n",
        "tf_tensor[1,1] = 2"
      ],
      "execution_count": 29,
      "outputs": [
        {
          "output_type": "error",
          "ename": "TypeError",
          "evalue": "ignored",
          "traceback": [
            "\u001b[0;31m---------------------------------------------------------------------------\u001b[0m",
            "\u001b[0;31mTypeError\u001b[0m                                 Traceback (most recent call last)",
            "\u001b[0;32m<ipython-input-29-cb7aa1630af4>\u001b[0m in \u001b[0;36m<module>\u001b[0;34m()\u001b[0m\n\u001b[1;32m      1\u001b[0m \u001b[0mtf_tensor\u001b[0m \u001b[0;34m=\u001b[0m \u001b[0mtf\u001b[0m\u001b[0;34m.\u001b[0m\u001b[0mconstant\u001b[0m\u001b[0;34m(\u001b[0m\u001b[0;34m[\u001b[0m\u001b[0;34m[\u001b[0m\u001b[0;36m1\u001b[0m\u001b[0;34m,\u001b[0m \u001b[0;36m2\u001b[0m\u001b[0;34m]\u001b[0m\u001b[0;34m,\u001b[0m\u001b[0;34m[\u001b[0m\u001b[0;36m3\u001b[0m\u001b[0;34m,\u001b[0m \u001b[0;36m4\u001b[0m\u001b[0;34m]\u001b[0m\u001b[0;34m,\u001b[0m\u001b[0;34m[\u001b[0m\u001b[0;36m5\u001b[0m\u001b[0;34m,\u001b[0m \u001b[0;36m6\u001b[0m\u001b[0;34m]\u001b[0m\u001b[0;34m]\u001b[0m\u001b[0;34m,\u001b[0m \u001b[0mdtype\u001b[0m\u001b[0;34m=\u001b[0m\u001b[0mtf\u001b[0m\u001b[0;34m.\u001b[0m\u001b[0mfloat16\u001b[0m\u001b[0;34m)\u001b[0m\u001b[0;34m\u001b[0m\u001b[0;34m\u001b[0m\u001b[0m\n\u001b[0;32m----> 2\u001b[0;31m \u001b[0mtf_tensor\u001b[0m\u001b[0;34m[\u001b[0m\u001b[0;36m1\u001b[0m\u001b[0;34m,\u001b[0m\u001b[0;36m1\u001b[0m\u001b[0;34m]\u001b[0m \u001b[0;34m=\u001b[0m \u001b[0;36m2\u001b[0m\u001b[0;34m\u001b[0m\u001b[0;34m\u001b[0m\u001b[0m\n\u001b[0m",
            "\u001b[0;31mTypeError\u001b[0m: 'tensorflow.python.framework.ops.EagerTensor' object does not support item assignment"
          ]
        }
      ]
    },
    {
      "cell_type": "markdown",
      "metadata": {
        "id": "5G3arKnOXEjW"
      },
      "source": [
        "*PyTorch*"
      ]
    },
    {
      "cell_type": "markdown",
      "metadata": {
        "id": "1eXTYE8SXSuN"
      },
      "source": [
        "## Variables and Parameters"
      ]
    },
    {
      "cell_type": "markdown",
      "metadata": {
        "id": "Wsz1wJITXcsW"
      },
      "source": [
        "*TensorFlow*"
      ]
    },
    {
      "cell_type": "code",
      "metadata": {
        "colab": {
          "base_uri": "https://localhost:8080/"
        },
        "id": "bbQ7F-RQXcsi",
        "outputId": "6e227a74-a155-44fe-f3ee-686cd3c87a80"
      },
      "source": [
        "tf_variable = tf.Variable(tf_tensor)\n",
        "tf_variable[1,1].assign(2)"
      ],
      "execution_count": 30,
      "outputs": [
        {
          "output_type": "execute_result",
          "data": {
            "text/plain": [
              "<tf.Variable 'UnreadVariable' shape=(3, 2) dtype=float16, numpy=\n",
              "array([[1., 2.],\n",
              "       [3., 2.],\n",
              "       [5., 6.]], dtype=float16)>"
            ]
          },
          "metadata": {
            "tags": []
          },
          "execution_count": 30
        }
      ]
    },
    {
      "cell_type": "markdown",
      "metadata": {
        "id": "HiBC0XKBXcsj"
      },
      "source": [
        "*PyTorch*"
      ]
    },
    {
      "cell_type": "code",
      "metadata": {
        "colab": {
          "base_uri": "https://localhost:8080/"
        },
        "id": "FfWkcY79Xcsj",
        "outputId": "94f94c17-aa8d-4772-cb5e-8af0cf6edd71"
      },
      "source": [
        "torch_parameter = torch.nn.Parameter(torch_tensor)\n",
        "with torch.no_grad():\n",
        "  torch_parameter[1,1]=1\n",
        "print(torch_parameter)"
      ],
      "execution_count": 32,
      "outputs": [
        {
          "output_type": "stream",
          "text": [
            "Parameter containing:\n",
            "tensor([[0.0138, 0.5902, 0.9026, 0.8270],\n",
            "        [0.3200, 1.0000, 0.0012, 0.1650],\n",
            "        [0.9360, 0.3606, 0.2409, 0.3320],\n",
            "        [0.3615, 0.8655, 0.4193, 0.9575]], requires_grad=True)\n"
          ],
          "name": "stdout"
        }
      ]
    },
    {
      "cell_type": "markdown",
      "metadata": {
        "id": "zBA_03nTXkdD"
      },
      "source": [
        "## Defining a new model"
      ]
    },
    {
      "cell_type": "markdown",
      "metadata": {
        "id": "xbhYz33QXrj6"
      },
      "source": [
        "*TensorFlow*"
      ]
    },
    {
      "cell_type": "code",
      "metadata": {
        "id": "GRwHaoWjXrj8"
      },
      "source": [
        "class LinearRegressionKeras(tf.keras.Model):\n",
        "    def __init__(self):\n",
        "        super().__init__()\n",
        "        self.w = tf.Variable(tf.random.uniform(shape=[1], minval=-0.1, maxval=0.1))\n",
        "        self.b = tf.Variable(tf.random.uniform(shape=[1], minval=-0.1, maxval=0.1))\n",
        "\n",
        "    def __call__(self,x): \n",
        "        return x * self.w + self.b"
      ],
      "execution_count": 35,
      "outputs": []
    },
    {
      "cell_type": "markdown",
      "metadata": {
        "id": "xQdetMfJXrj9"
      },
      "source": [
        "*PyTorch*"
      ]
    },
    {
      "cell_type": "code",
      "metadata": {
        "id": "z7CZjTZgXrj-"
      },
      "source": [
        "class LinearRegressionPyTorch(torch.nn.Module): \n",
        "  def __init__(self): \n",
        "    super().__init__()\n",
        "    self.w = torch.nn.Parameter(torch.Tensor(1, 1).uniform_(-0.1, 0.1))\n",
        "    self.b = torch.nn.Parameter(torch.Tensor(1).uniform_(-0.1, 0.1))\n",
        "    \n",
        "  def forward(self, x):  \n",
        "    return x @ self.w + self.b"
      ],
      "execution_count": 36,
      "outputs": []
    },
    {
      "cell_type": "markdown",
      "metadata": {
        "id": "MwBdPUhBjdpQ"
      },
      "source": [
        "## Training Loop"
      ]
    },
    {
      "cell_type": "markdown",
      "metadata": {
        "id": "ptiRO99ujdpR"
      },
      "source": [
        "*TensorFlow*"
      ]
    },
    {
      "cell_type": "code",
      "metadata": {
        "id": "kglEDEEwlgVE"
      },
      "source": [
        "import numpy as np\n",
        "def generate_data(m=0.1, b=0.3, n=200):\n",
        "    x = np.random.uniform(-10, 10, n)\n",
        "    noise = np.random.normal(0, 0.15, n)\n",
        "    y = (m * x + b ) + noise\n",
        "    return x.astype(np.float32), y.astype(np.float32)\n",
        "\n",
        "x, y = generate_data()"
      ],
      "execution_count": 13,
      "outputs": []
    },
    {
      "cell_type": "code",
      "metadata": {
        "id": "AtYitFIfjdpR",
        "outputId": "8a8a591b-4ce9-4058-fd70-a2cb09486292",
        "colab": {
          "base_uri": "https://localhost:8080/",
          "height": 229
        }
      },
      "source": [
        "x, y = generate_data()\n",
        "tf_model_train_loop = LinearRegressionKeras()\n",
        "\n",
        "optimizer = tf.keras.optimizers.SGD(learning_rate=learning_rate)\n",
        "\n",
        "for epoch in range(epochs * 3):\n",
        "    x_batch = tf.reshape(x, [200, 1])\n",
        "    with tf.GradientTape() as tape:\n",
        "        y_pred = tf_model_train_loop(x_batch)\n",
        "        y_pred = tf.reshape(y_pred, [200])\n",
        "        loss = tf.losses.mse(y_pred, y)\n",
        "    \n",
        "    grads = tape.gradient(loss, tf_model_train_loop.variables)\n",
        "    \n",
        "    optimizer.apply_gradients(grads_and_vars=zip(grads, tf_model_train_loop.variables))\n",
        "\n",
        "    if epoch % 20 == 0:\n",
        "        print(f\"Epoch {epoch} : Loss {loss.numpy()}\")"
      ],
      "execution_count": 14,
      "outputs": [
        {
          "output_type": "error",
          "ename": "NameError",
          "evalue": "ignored",
          "traceback": [
            "\u001b[0;31m---------------------------------------------------------------------------\u001b[0m",
            "\u001b[0;31mNameError\u001b[0m                                 Traceback (most recent call last)",
            "\u001b[0;32m<ipython-input-14-ddf4bae5e053>\u001b[0m in \u001b[0;36m<module>\u001b[0;34m()\u001b[0m\n\u001b[1;32m      1\u001b[0m \u001b[0mx\u001b[0m\u001b[0;34m,\u001b[0m \u001b[0my\u001b[0m \u001b[0;34m=\u001b[0m \u001b[0mgenerate_data\u001b[0m\u001b[0;34m(\u001b[0m\u001b[0;34m)\u001b[0m\u001b[0;34m\u001b[0m\u001b[0;34m\u001b[0m\u001b[0m\n\u001b[0;32m----> 2\u001b[0;31m \u001b[0mtf_model_train_loop\u001b[0m \u001b[0;34m=\u001b[0m \u001b[0mLinearRegressionKeras\u001b[0m\u001b[0;34m(\u001b[0m\u001b[0;34m)\u001b[0m\u001b[0;34m\u001b[0m\u001b[0;34m\u001b[0m\u001b[0m\n\u001b[0m\u001b[1;32m      3\u001b[0m \u001b[0;34m\u001b[0m\u001b[0m\n\u001b[1;32m      4\u001b[0m \u001b[0moptimizer\u001b[0m \u001b[0;34m=\u001b[0m \u001b[0mtf\u001b[0m\u001b[0;34m.\u001b[0m\u001b[0mkeras\u001b[0m\u001b[0;34m.\u001b[0m\u001b[0moptimizers\u001b[0m\u001b[0;34m.\u001b[0m\u001b[0mSGD\u001b[0m\u001b[0;34m(\u001b[0m\u001b[0mlearning_rate\u001b[0m\u001b[0;34m=\u001b[0m\u001b[0mlearning_rate\u001b[0m\u001b[0;34m)\u001b[0m\u001b[0;34m\u001b[0m\u001b[0;34m\u001b[0m\u001b[0m\n\u001b[1;32m      5\u001b[0m \u001b[0;34m\u001b[0m\u001b[0m\n",
            "\u001b[0;31mNameError\u001b[0m: name 'LinearRegressionKeras' is not defined"
          ]
        }
      ]
    },
    {
      "cell_type": "markdown",
      "metadata": {
        "id": "yk0LhA7bjdpS"
      },
      "source": [
        "*PyTorch*"
      ]
    },
    {
      "cell_type": "code",
      "metadata": {
        "id": "2GmiSG4AjzOW"
      },
      "source": [
        ""
      ],
      "execution_count": null,
      "outputs": []
    },
    {
      "cell_type": "code",
      "metadata": {
        "id": "Ztvg5moBjdpS"
      },
      "source": [
        "class LinearRegressionPyTorch(torch.nn.Module): \n",
        "  def __init__(self): \n",
        "    super().__init__()\n",
        "    self.w = torch.nn.Parameter(torch.Tensor(1, 1).uniform_(-0.1, 0.1))\n",
        "    self.b = torch.nn.Parameter(torch.Tensor(1).uniform_(-0.1, 0.1))\n",
        "    \n",
        "  def forward(self, x):  \n",
        "    return x @ self.w + self.b"
      ],
      "execution_count": null,
      "outputs": []
    }
  ]
}