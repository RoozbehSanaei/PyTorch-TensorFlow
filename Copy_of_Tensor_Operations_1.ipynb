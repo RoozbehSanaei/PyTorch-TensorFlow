{
  "nbformat": 4,
  "nbformat_minor": 0,
  "metadata": {
    "colab": {
      "name": "Copy of Tensor Operations 1.ipynb",
      "provenance": [],
      "collapsed_sections": [],
      "authorship_tag": "ABX9TyOWWWq4rUxpr05rR48LnCVX",
      "include_colab_link": true
    },
    "kernelspec": {
      "name": "python3",
      "display_name": "Python 3"
    },
    "language_info": {
      "name": "python"
    }
  },
  "cells": [
    {
      "cell_type": "markdown",
      "metadata": {
        "id": "view-in-github",
        "colab_type": "text"
      },
      "source": [
        "<a href=\"https://colab.research.google.com/github/RoozbehSanaei/PyTorch-TensorFlow/blob/gh-pages/Copy_of_Tensor_Operations_1.ipynb\" target=\"_parent\"><img src=\"https://colab.research.google.com/assets/colab-badge.svg\" alt=\"Open In Colab\"/></a>"
      ]
    },
    {
      "cell_type": "code",
      "metadata": {
        "id": "j_Q9-EHhFDd1"
      },
      "source": [
        "import tensorflow as tf\n",
        "import torch"
      ],
      "execution_count": null,
      "outputs": []
    },
    {
      "cell_type": "markdown",
      "metadata": {
        "id": "ZzfRUVH9iRcr"
      },
      "source": [
        "### Reshaping Tensors\n",
        "\n"
      ]
    },
    {
      "cell_type": "markdown",
      "metadata": {
        "id": "GNZgj0RciRc1"
      },
      "source": [
        "#### *TensorFlow*"
      ]
    },
    {
      "cell_type": "code",
      "metadata": {
        "colab": {
          "base_uri": "https://localhost:8080/"
        },
        "id": "2U15r3oZiRc2",
        "outputId": "a68e71ae-102f-4528-a43a-0186402ad233"
      },
      "source": [
        "tf_tensor = tf.constant([[1, 2],[3, 4],[5, 6]], dtype=tf.float16)\n",
        "tf.reshape(tf_tensor, [2, 3])"
      ],
      "execution_count": null,
      "outputs": [
        {
          "output_type": "execute_result",
          "data": {
            "text/plain": [
              "<tf.Tensor: shape=(2, 3), dtype=float16, numpy=\n",
              "array([[1., 2., 3.],\n",
              "       [4., 5., 6.]], dtype=float16)>"
            ]
          },
          "metadata": {
            "tags": []
          },
          "execution_count": 5
        }
      ]
    },
    {
      "cell_type": "markdown",
      "metadata": {
        "id": "JaOU-hOxiRc2"
      },
      "source": [
        "#### *PyTorch*"
      ]
    },
    {
      "cell_type": "code",
      "metadata": {
        "colab": {
          "base_uri": "https://localhost:8080/"
        },
        "id": "hz174V2EiRc3",
        "outputId": "c9682376-7ca8-4d5f-f450-be7472781f4f"
      },
      "source": [
        "torch_tensor = torch.HalfTensor([[1, 2],[3, 4],[5, 6]],device=torch.device('cpu'))\n",
        "torch_tensor.view(2,3)"
      ],
      "execution_count": null,
      "outputs": [
        {
          "output_type": "execute_result",
          "data": {
            "text/plain": [
              "tensor([[1., 2., 3.],\n",
              "        [4., 5., 6.]], dtype=torch.float16)"
            ]
          },
          "metadata": {
            "tags": []
          },
          "execution_count": 3
        }
      ]
    },
    {
      "cell_type": "code",
      "metadata": {
        "colab": {
          "base_uri": "https://localhost:8080/"
        },
        "id": "3agu1fL6iRc3",
        "outputId": "558e2d5f-baf6-4b54-8f8e-f16fa97d9516"
      },
      "source": [
        "torch_tensor = torch.HalfTensor([[1, 2],[3, 4],[5, 6]],device=torch.device('cpu'))\n",
        "torch_tensor.view(-1,3)"
      ],
      "execution_count": null,
      "outputs": [
        {
          "output_type": "execute_result",
          "data": {
            "text/plain": [
              "tensor([[1., 2., 3.],\n",
              "        [4., 5., 6.]], dtype=torch.float16)"
            ]
          },
          "metadata": {
            "tags": []
          },
          "execution_count": 4
        }
      ]
    },
    {
      "cell_type": "markdown",
      "metadata": {
        "id": "CilLt8T4UZ5q"
      },
      "source": [
        "###  Tensor Elementwise Multiplication, Addition and Subtraction\n",
        "\n"
      ]
    },
    {
      "cell_type": "markdown",
      "metadata": {
        "id": "eIKhxB8_UZ54"
      },
      "source": [
        "#### *TensorFlow*"
      ]
    },
    {
      "cell_type": "code",
      "metadata": {
        "colab": {
          "base_uri": "https://localhost:8080/"
        },
        "id": "COnZ142OUZ55",
        "outputId": "25b748f1-5bfc-4785-fa03-0c5bdffba85a"
      },
      "source": [
        "tf_tensor1 = tf.constant([[1, 2],[3, 4],[5, 6]], dtype=tf.float16)\n",
        "tf_tensor2 = tf.constant([[4, 3],[7, 1],[2, 4]], dtype=tf.float16)\n",
        "print(tf_tensor1 * tf_tensor2)\n",
        "print(tf_tensor1 + tf_tensor2)\n",
        "print(tf_tensor1 - tf_tensor2)"
      ],
      "execution_count": null,
      "outputs": [
        {
          "output_type": "stream",
          "text": [
            "tf.Tensor(\n",
            "[[ 4.  6.]\n",
            " [21.  4.]\n",
            " [10. 24.]], shape=(3, 2), dtype=float16)\n",
            "tf.Tensor(\n",
            "[[ 5.  5.]\n",
            " [10.  5.]\n",
            " [ 7. 10.]], shape=(3, 2), dtype=float16)\n",
            "tf.Tensor(\n",
            "[[-3. -1.]\n",
            " [-4.  3.]\n",
            " [ 3.  2.]], shape=(3, 2), dtype=float16)\n"
          ],
          "name": "stdout"
        }
      ]
    },
    {
      "cell_type": "markdown",
      "metadata": {
        "id": "VW3LjoWEUZ56"
      },
      "source": [
        "#### *PyTorch*"
      ]
    },
    {
      "cell_type": "code",
      "metadata": {
        "colab": {
          "base_uri": "https://localhost:8080/"
        },
        "id": "saEOXQlWUZ56",
        "outputId": "3307dee0-a3bc-41ce-8469-234a418ed174"
      },
      "source": [
        "torch_tensor1 = torch.HalfTensor([[1, 2],[3, 4],[5, 6]],device=torch.device('cpu'))\n",
        "torch_tensor2 = torch.HalfTensor([[4, 3],[7, 1],[2, 4]],device=torch.device('cpu'))\n",
        "print(torch_tensor1 * torch_tensor2)\n",
        "\n"
      ],
      "execution_count": null,
      "outputs": [
        {
          "output_type": "execute_result",
          "data": {
            "text/plain": [
              "tensor([[ 4.,  6.],\n",
              "        [21.,  4.],\n",
              "        [10., 24.]], dtype=torch.float16)"
            ]
          },
          "metadata": {
            "tags": []
          },
          "execution_count": 9
        }
      ]
    },
    {
      "cell_type": "markdown",
      "metadata": {
        "id": "oeT1aAKikau5"
      },
      "source": [
        "###  Tensor Multiplication\n",
        "\n"
      ]
    },
    {
      "cell_type": "markdown",
      "metadata": {
        "id": "u-xjToHYkavH"
      },
      "source": [
        "#### *TensorFlow*"
      ]
    },
    {
      "cell_type": "code",
      "metadata": {
        "colab": {
          "base_uri": "https://localhost:8080/"
        },
        "id": "VFhL5SeakavH",
        "outputId": "9de2a42a-bf1f-4464-eff6-a64207cd94da"
      },
      "source": [
        "tf_tensor1 = tf.constant([[1, 2],[3, 4],[5, 6]], dtype=tf.float16)\n",
        "tf_tensor2 = tf.constant([[4, 3, 7], [1 ,2, 4]], dtype=tf.float16)\n",
        "print(tf_tensor1@tf_tensor2)\n",
        "print(tf.matmul(tf_tensor1,tf_tensor2))"
      ],
      "execution_count": null,
      "outputs": [
        {
          "output_type": "stream",
          "text": [
            "tf.Tensor(\n",
            "[[ 6.  7. 15.]\n",
            " [16. 17. 37.]\n",
            " [26. 27. 59.]], shape=(3, 3), dtype=float16)\n",
            "tf.Tensor(\n",
            "[[ 6.  7. 15.]\n",
            " [16. 17. 37.]\n",
            " [26. 27. 59.]], shape=(3, 3), dtype=float16)\n"
          ],
          "name": "stdout"
        }
      ]
    },
    {
      "cell_type": "markdown",
      "metadata": {
        "id": "W-M3PbkbkavJ"
      },
      "source": [
        "#### *PyTorch*"
      ]
    },
    {
      "cell_type": "code",
      "metadata": {
        "id": "u8qxr76ckavJ"
      },
      "source": [
        "torch_tensor1 = torch.HalfTensor([[1, 2],[3, 4],[5, 6]],device=torch.device('cpu'))\n",
        "torch_tensor2 = torch.HalfTensor([[4, 3, 7], [1 ,2, 4]],device=torch.device('cpu'))\n",
        "print(torch_tensor1 @ torch_tensor2)\n",
        "print(torch.mm(torch_tensor1, torch_tensor2))\n",
        "print(torch_tensor1.matmul(torch_tensor2))\n",
        "print(torch_tensor1.mm(torch_tensor2))"
      ],
      "execution_count": null,
      "outputs": []
    },
    {
      "cell_type": "markdown",
      "metadata": {
        "id": "3emw32Sl6-L4"
      },
      "source": [
        "###  Vector Dot Product\n",
        "\n"
      ]
    },
    {
      "cell_type": "markdown",
      "metadata": {
        "id": "5th_riRm6-L5"
      },
      "source": [
        "#### *TensorFlow*"
      ]
    },
    {
      "cell_type": "code",
      "metadata": {
        "colab": {
          "base_uri": "https://localhost:8080/"
        },
        "id": "MifRkiL16-L6",
        "outputId": "553ad8ee-dcfe-47ff-8289-82cd16f6a25a"
      },
      "source": [
        "tf_tensor1 = tf.constant([1, 2, 3], dtype=tf.float16)\n",
        "tf_tensor2 = tf.constant([4 ,5, 6], dtype=tf.float16)\n",
        "tf.tensordot(tf_tensor1, tf_tensor2, 1)"
      ],
      "execution_count": null,
      "outputs": [
        {
          "output_type": "execute_result",
          "data": {
            "text/plain": [
              "<tf.Tensor: shape=(), dtype=float16, numpy=32.0>"
            ]
          },
          "metadata": {
            "tags": []
          },
          "execution_count": 33
        }
      ]
    },
    {
      "cell_type": "markdown",
      "metadata": {
        "id": "39nQuOHS6-L9"
      },
      "source": [
        "#### *PyTorch*"
      ]
    },
    {
      "cell_type": "code",
      "metadata": {
        "colab": {
          "base_uri": "https://localhost:8080/"
        },
        "id": "fwb8R-PL6-L-",
        "outputId": "acf555ab-9a89-444f-bb8a-5e243c6334d7"
      },
      "source": [
        "torch_tensor1 = torch.HalfTensor([1, 2, 3],device=torch.device('cpu'))\n",
        "torch_tensor2 = torch.HalfTensor([4 ,5, 6],device=torch.device('cpu'))\n",
        "print(torch.dot(torch_tensor1,torch_tensor2))"
      ],
      "execution_count": null,
      "outputs": [
        {
          "output_type": "stream",
          "text": [
            "tensor(32., dtype=torch.float16)\n"
          ],
          "name": "stdout"
        }
      ]
    }
  ]
}