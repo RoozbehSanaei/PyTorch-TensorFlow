{
  "nbformat": 4,
  "nbformat_minor": 0,
  "metadata": {
    "colab": {
      "name": "Generating Tensors.ipynb",
      "provenance": [],
      "authorship_tag": "ABX9TyM5oqXREOl1AfW2eh71s7Qg",
      "include_colab_link": true
    },
    "kernelspec": {
      "name": "python3",
      "display_name": "Python 3"
    },
    "language_info": {
      "name": "python"
    }
  },
  "cells": [
    {
      "cell_type": "markdown",
      "metadata": {
        "id": "view-in-github",
        "colab_type": "text"
      },
      "source": [
        "<a href=\"https://colab.research.google.com/github/RoozbehSanaei/PyTorch-TensorFlow/blob/gh-pages/Generating_Tensors.ipynb\" target=\"_parent\"><img src=\"https://colab.research.google.com/assets/colab-badge.svg\" alt=\"Open In Colab\"/></a>"
      ]
    },
    {
      "cell_type": "code",
      "metadata": {
        "id": "j_Q9-EHhFDd1"
      },
      "source": [
        "import tensorflow as tf\n",
        "import torch\n",
        "import tensorflow_probability as tfp"
      ],
      "execution_count": 57,
      "outputs": []
    },
    {
      "cell_type": "markdown",
      "metadata": {
        "id": "MuHL2j9qonWc"
      },
      "source": [
        "\n",
        "## Constant Tensors"
      ]
    },
    {
      "cell_type": "markdown",
      "metadata": {
        "id": "e8PeeixEpDvd"
      },
      "source": [
        "#### *TensorFlow*"
      ]
    },
    {
      "cell_type": "code",
      "metadata": {
        "id": "ldRGZbSVpDvf"
      },
      "source": [
        "tf_tensor = tf.constant([[1, 2],[3, 4],[5, 6]], dtype=tf.float16)"
      ],
      "execution_count": null,
      "outputs": []
    },
    {
      "cell_type": "markdown",
      "metadata": {
        "id": "kr49rG8roxOA"
      },
      "source": [
        "#### *PyTorch*"
      ]
    },
    {
      "cell_type": "code",
      "metadata": {
        "id": "3kpAWxVi-cXn"
      },
      "source": [
        "torch_tensor = torch.HalfTensor([[1, 2],[3, 4],[5, 6]],device=torch.device('cpu'))"
      ],
      "execution_count": null,
      "outputs": []
    },
    {
      "cell_type": "markdown",
      "metadata": {
        "id": "QnI0g82WAnEp"
      },
      "source": [
        "## Random Tensors"
      ]
    },
    {
      "cell_type": "markdown",
      "metadata": {
        "id": "Wp49lOVpEH6p"
      },
      "source": [
        "### Uniform Distribution"
      ]
    },
    {
      "cell_type": "markdown",
      "metadata": {
        "id": "PdxXiqGHEH6p"
      },
      "source": [
        "#### *TensorFlow*"
      ]
    },
    {
      "cell_type": "code",
      "metadata": {
        "id": "BIXMMRo_EH6p"
      },
      "source": [
        "tf_tensor = tf.random.uniform([4,4], minval=0, maxval=1, dtype=tf.float32, seed=1)"
      ],
      "execution_count": null,
      "outputs": []
    },
    {
      "cell_type": "markdown",
      "metadata": {
        "id": "nCZKpwi1EH6q"
      },
      "source": [
        "#### *PyTorch*"
      ]
    },
    {
      "cell_type": "code",
      "metadata": {
        "id": "ZhVVFIBKEH6q"
      },
      "source": [
        "torch_tensor = torch.rand(4,4,device=torch.device('cpu'),dtype=torch.float32)"
      ],
      "execution_count": null,
      "outputs": []
    },
    {
      "cell_type": "markdown",
      "metadata": {
        "id": "vXeKqzjJENEg"
      },
      "source": [
        "### Normal Distribution"
      ]
    },
    {
      "cell_type": "markdown",
      "metadata": {
        "id": "__d8oyQVAnEs"
      },
      "source": [
        "#### *TensorFlow*"
      ]
    },
    {
      "cell_type": "code",
      "metadata": {
        "colab": {
          "base_uri": "https://localhost:8080/"
        },
        "id": "_6Ir1CAWAnEt",
        "outputId": "3c0ecb80-15a1-4292-ab65-1bde24443bea"
      },
      "source": [
        "tf.random.normal([4,4], mean = 0, stddev =2, dtype=tf.float32, seed=None, name=None)"
      ],
      "execution_count": 7,
      "outputs": [
        {
          "output_type": "execute_result",
          "data": {
            "text/plain": [
              "<tf.Tensor: shape=(4, 4), dtype=float32, numpy=\n",
              "array([[ 1.2997719 , -0.30237177, -0.13434216,  0.33964786],\n",
              "       [ 0.90262836,  1.5942805 , -1.1528667 , -4.4781594 ],\n",
              "       [-2.88608   , -2.806104  ,  0.04099423, -1.0856115 ],\n",
              "       [ 0.81831145,  2.8441727 ,  1.0848956 ,  3.0186584 ]],\n",
              "      dtype=float32)>"
            ]
          },
          "metadata": {
            "tags": []
          },
          "execution_count": 7
        }
      ]
    },
    {
      "cell_type": "markdown",
      "metadata": {
        "id": "8-RgLjO2AnEt"
      },
      "source": [
        "#### *PyTorch*"
      ]
    },
    {
      "cell_type": "code",
      "metadata": {
        "colab": {
          "base_uri": "https://localhost:8080/"
        },
        "id": "_QM9CQzAAnEt",
        "outputId": "7c0d7f1f-1242-495c-a714-9b91cc566242"
      },
      "source": [
        "torch.normal(mean = 2, std = 3, size=(4, 4),dtype=torch.float32)"
      ],
      "execution_count": 11,
      "outputs": [
        {
          "output_type": "execute_result",
          "data": {
            "text/plain": [
              "tensor([[ 3.0225,  2.5156,  5.3459, -4.4868],\n",
              "        [ 5.9280,  8.1764,  2.8973,  3.6830],\n",
              "        [ 1.6894,  3.9443,  0.6622,  5.2258],\n",
              "        [ 2.8127,  1.5566, -1.3875,  1.6875]])"
            ]
          },
          "metadata": {
            "tags": []
          },
          "execution_count": 11
        }
      ]
    },
    {
      "cell_type": "code",
      "metadata": {
        "colab": {
          "base_uri": "https://localhost:8080/"
        },
        "id": "61kTP4QVGs8N",
        "outputId": "10add4d3-5c72-45a4-e3c5-3cf90ae8c9c8"
      },
      "source": [
        "torch.normal(mean=torch.arange(1., 11.), std=torch.arange(1, 0, -0.1))"
      ],
      "execution_count": 17,
      "outputs": [
        {
          "output_type": "execute_result",
          "data": {
            "text/plain": [
              "tensor([0.8743, 3.4180, 3.1343, 2.8533, 5.7171, 6.3970, 6.8452, 7.8240, 9.3041,\n",
              "        9.9654])"
            ]
          },
          "metadata": {
            "tags": []
          },
          "execution_count": 17
        }
      ]
    },
    {
      "cell_type": "markdown",
      "metadata": {
        "id": "9KmNi1OSJiZD"
      },
      "source": [
        "### Binomial Distribution\n",
        "\n"
      ]
    },
    {
      "cell_type": "markdown",
      "metadata": {
        "id": "TJJap4ZkKtk1"
      },
      "source": [
        "#### *TensorFlow*"
      ]
    },
    {
      "cell_type": "code",
      "metadata": {
        "colab": {
          "base_uri": "https://localhost:8080/"
        },
        "id": "93T1MuU2KmwF",
        "outputId": "66fdea73-7601-4849-980b-058e4cbf13a6"
      },
      "source": [
        "tf.random.stateless_binomial(shape=[3], seed=[123, 1], counts=[10., 20.,30.0], probs= [0.8,0.5,0.9]).numpy()"
      ],
      "execution_count": 55,
      "outputs": [
        {
          "output_type": "execute_result",
          "data": {
            "text/plain": [
              "array([10,  8, 27], dtype=int32)"
            ]
          },
          "metadata": {
            "tags": []
          },
          "execution_count": 55
        }
      ]
    },
    {
      "cell_type": "markdown",
      "metadata": {
        "id": "DaqA6e-pLkNh"
      },
      "source": [
        "#### *PyTorch*"
      ]
    },
    {
      "cell_type": "code",
      "metadata": {
        "colab": {
          "base_uri": "https://localhost:8080/"
        },
        "id": "ESY8QtbgLhkj",
        "outputId": "2fdbe335-d6e9-4c72-e1a9-79a109d6ba4f"
      },
      "source": [
        "from torch.distributions import Binomial\n",
        "Binomial(torch.tensor([[10.,20,30.0]]), torch.tensor([0.5, 0.8,0.2])).sample()"
      ],
      "execution_count": 49,
      "outputs": [
        {
          "output_type": "execute_result",
          "data": {
            "text/plain": [
              "tensor([[ 8., 18.,  3.]])"
            ]
          },
          "metadata": {
            "tags": []
          },
          "execution_count": 49
        }
      ]
    },
    {
      "cell_type": "markdown",
      "metadata": {
        "id": "zdJVqPW5rSOv"
      },
      "source": [
        "### Tensor DataTypes\n"
      ]
    },
    {
      "cell_type": "markdown",
      "metadata": {
        "id": "3t-vNUzEN6uw"
      },
      "source": [
        "### Bernoulli Distribution\n",
        "\n"
      ]
    },
    {
      "cell_type": "markdown",
      "metadata": {
        "id": "ennyyDx0N6u6"
      },
      "source": [
        "#### *TensorFlow*"
      ]
    },
    {
      "cell_type": "code",
      "metadata": {
        "colab": {
          "base_uri": "https://localhost:8080/"
        },
        "id": "4mqxOHo4N6u6",
        "outputId": "ecbd275f-5369-4656-c642-d6f9d1cea56d"
      },
      "source": [
        "tfp.distributions.Bernoulli(probs=0.7).sample(sample_shape=(10,10))"
      ],
      "execution_count": 73,
      "outputs": [
        {
          "output_type": "execute_result",
          "data": {
            "text/plain": [
              "<tf.Tensor: shape=(10, 10), dtype=int32, numpy=\n",
              "array([[0, 1, 1, 0, 1, 0, 1, 1, 0, 0],\n",
              "       [0, 1, 0, 0, 1, 1, 1, 1, 1, 1],\n",
              "       [1, 1, 1, 1, 1, 0, 1, 1, 1, 0],\n",
              "       [1, 0, 1, 1, 1, 0, 0, 1, 1, 1],\n",
              "       [1, 1, 0, 0, 1, 0, 1, 0, 1, 1],\n",
              "       [1, 0, 1, 1, 0, 1, 1, 1, 1, 1],\n",
              "       [1, 1, 1, 1, 0, 1, 0, 1, 0, 1],\n",
              "       [1, 0, 1, 1, 1, 1, 1, 0, 1, 1],\n",
              "       [1, 1, 1, 1, 0, 0, 1, 1, 1, 1],\n",
              "       [0, 0, 1, 0, 1, 1, 0, 1, 0, 0]], dtype=int32)>"
            ]
          },
          "metadata": {
            "tags": []
          },
          "execution_count": 73
        }
      ]
    },
    {
      "cell_type": "markdown",
      "metadata": {
        "id": "P-EXNBWSN6u7"
      },
      "source": [
        "#### *PyTorch*"
      ]
    },
    {
      "cell_type": "code",
      "metadata": {
        "colab": {
          "base_uri": "https://localhost:8080/"
        },
        "id": "ns4DoSZNN6u7",
        "outputId": "6b0d02d0-bc68-4e42-d551-c9713ad7a372"
      },
      "source": [
        "from torch.distributions import Bernoulli\n",
        "Bernoulli(torch.tensor(0.7)).sample((10,10))"
      ],
      "execution_count": 72,
      "outputs": [
        {
          "output_type": "execute_result",
          "data": {
            "text/plain": [
              "tensor([[1., 1., 1., 1., 1., 1., 1., 0., 0., 0.],\n",
              "        [1., 0., 1., 1., 1., 0., 1., 1., 0., 0.],\n",
              "        [1., 0., 0., 1., 1., 1., 0., 1., 1., 1.],\n",
              "        [1., 1., 1., 1., 0., 1., 1., 1., 1., 1.],\n",
              "        [1., 0., 0., 1., 1., 1., 1., 1., 1., 1.],\n",
              "        [1., 1., 1., 1., 1., 0., 0., 0., 1., 1.],\n",
              "        [1., 1., 1., 1., 1., 1., 1., 1., 0., 1.],\n",
              "        [1., 1., 0., 0., 0., 1., 0., 1., 1., 0.],\n",
              "        [1., 1., 1., 0., 1., 1., 1., 1., 1., 1.],\n",
              "        [1., 1., 1., 1., 1., 1., 1., 1., 1., 0.]])"
            ]
          },
          "metadata": {
            "tags": []
          },
          "execution_count": 72
        }
      ]
    },
    {
      "cell_type": "markdown",
      "metadata": {
        "id": "z54ytMUMqO-I"
      },
      "source": [
        "For different datatypes in TensorFlow see [here](https://www.tensorflow.org/api_docs/python/tf/dtypes/DType)"
      ]
    },
    {
      "cell_type": "markdown",
      "metadata": {
        "id": "b84fCkM5qxqy"
      },
      "source": [
        "For different datatypes in PyTorch see [here](https://pytorch.org/docs/stable/tensors.html)"
      ]
    }
  ]
}