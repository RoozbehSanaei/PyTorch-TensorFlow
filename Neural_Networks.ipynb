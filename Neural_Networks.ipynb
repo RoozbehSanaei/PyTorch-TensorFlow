{
  "nbformat": 4,
  "nbformat_minor": 0,
  "metadata": {
    "colab": {
      "name": "Neural Networks.ipynb",
      "provenance": [],
      "collapsed_sections": [],
      "authorship_tag": "ABX9TyMyGg5g5S7+qOly3L3wrTlY",
      "include_colab_link": true
    },
    "kernelspec": {
      "name": "python3",
      "display_name": "Python 3"
    },
    "language_info": {
      "name": "python"
    }
  },
  "cells": [
    {
      "cell_type": "markdown",
      "metadata": {
        "id": "view-in-github",
        "colab_type": "text"
      },
      "source": [
        "<a href=\"https://colab.research.google.com/github/RoozbehSanaei/PyTorch-TensorFlow/blob/gh-pages/Neural_Networks.ipynb\" target=\"_parent\"><img src=\"https://colab.research.google.com/assets/colab-badge.svg\" alt=\"Open In Colab\"/></a>"
      ]
    },
    {
      "cell_type": "code",
      "metadata": {
        "id": "j_Q9-EHhFDd1"
      },
      "source": [
        "import tensorflow as tf\n",
        "import torch\n",
        "import tensorflow_probability as tfp\n",
        "from torch import nn"
      ],
      "execution_count": 2,
      "outputs": []
    },
    {
      "cell_type": "markdown",
      "metadata": {
        "id": "MuHL2j9qonWc"
      },
      "source": [
        "\n",
        "## Sigmoid"
      ]
    },
    {
      "cell_type": "markdown",
      "metadata": {
        "id": "e8PeeixEpDvd"
      },
      "source": [
        "#### *TensorFlow*"
      ]
    },
    {
      "cell_type": "code",
      "metadata": {
        "id": "ldRGZbSVpDvf",
        "colab": {
          "base_uri": "https://localhost:8080/"
        },
        "outputId": "384306df-04bf-480a-9729-7f74b60f7f03"
      },
      "source": [
        "tf.keras.activations.sigmoid(tf.constant([[1, 2],[3, 4],[5, 6]],dtype=tf.float32))"
      ],
      "execution_count": 12,
      "outputs": [
        {
          "output_type": "execute_result",
          "data": {
            "text/plain": [
              "<tf.Tensor: shape=(3, 2), dtype=float32, numpy=\n",
              "array([[0.7310586 , 0.8807971 ],\n",
              "       [0.95257413, 0.98201376],\n",
              "       [0.9933071 , 0.99752736]], dtype=float32)>"
            ]
          },
          "metadata": {
            "tags": []
          },
          "execution_count": 12
        }
      ]
    },
    {
      "cell_type": "markdown",
      "metadata": {
        "id": "kr49rG8roxOA"
      },
      "source": [
        "#### *PyTorch*"
      ]
    },
    {
      "cell_type": "code",
      "metadata": {
        "id": "3kpAWxVi-cXn",
        "colab": {
          "base_uri": "https://localhost:8080/"
        },
        "outputId": "ff2eeaf7-8330-42d7-a479-508e23054c18"
      },
      "source": [
        "nn.Sigmoid()(torch.Tensor([[1, 2],[3, 4],[5, 6]]))"
      ],
      "execution_count": 7,
      "outputs": [
        {
          "output_type": "execute_result",
          "data": {
            "text/plain": [
              "tensor([[0.7311, 0.8808],\n",
              "        [0.9526, 0.9820],\n",
              "        [0.9933, 0.9975]])"
            ]
          },
          "metadata": {
            "tags": []
          },
          "execution_count": 7
        }
      ]
    },
    {
      "cell_type": "markdown",
      "metadata": {
        "id": "H1ULJFqzTpkW"
      },
      "source": [
        "\n",
        "## Relu"
      ]
    },
    {
      "cell_type": "markdown",
      "metadata": {
        "id": "Bb0MwmP6Tpk9"
      },
      "source": [
        "#### *TensorFlow*"
      ]
    },
    {
      "cell_type": "code",
      "metadata": {
        "colab": {
          "base_uri": "https://localhost:8080/"
        },
        "id": "QXt3MzxjTpk_",
        "outputId": "486caada-6ece-4ed7-a359-d7d26aeb431d"
      },
      "source": [
        "tf.keras.activations.relu(tf.constant([[-1, 2],[3, 4],[-5, 6]],dtype=tf.float32))"
      ],
      "execution_count": null,
      "outputs": [
        {
          "output_type": "execute_result",
          "data": {
            "text/plain": [
              "<tf.Tensor: shape=(3, 2), dtype=float32, numpy=\n",
              "array([[0., 2.],\n",
              "       [3., 4.],\n",
              "       [0., 6.]], dtype=float32)>"
            ]
          },
          "metadata": {
            "tags": []
          },
          "execution_count": 14
        }
      ]
    },
    {
      "cell_type": "markdown",
      "metadata": {
        "id": "H7qcVD8-TplB"
      },
      "source": [
        "#### *PyTorch*"
      ]
    },
    {
      "cell_type": "code",
      "metadata": {
        "colab": {
          "base_uri": "https://localhost:8080/"
        },
        "id": "LOhM87PETplC",
        "outputId": "4e0029bd-c5f8-4053-b6ba-3c981bf6d4ef"
      },
      "source": [
        "nn.ReLU()(torch.Tensor([[-1, 2],[3, 4],[5, -6]]))"
      ],
      "execution_count": null,
      "outputs": [
        {
          "output_type": "execute_result",
          "data": {
            "text/plain": [
              "tensor([[0., 2.],\n",
              "        [3., 4.],\n",
              "        [5., 0.]])"
            ]
          },
          "metadata": {
            "tags": []
          },
          "execution_count": 15
        }
      ]
    },
    {
      "cell_type": "markdown",
      "metadata": {
        "id": "b7SypxyVSsFD"
      },
      "source": [
        "\n",
        "## Linear"
      ]
    },
    {
      "cell_type": "markdown",
      "metadata": {
        "id": "wO4YHM-6SsFf"
      },
      "source": [
        "#### *TensorFlow*"
      ]
    },
    {
      "cell_type": "code",
      "metadata": {
        "colab": {
          "base_uri": "https://localhost:8080/"
        },
        "id": "g2zRxPXOSsFg",
        "outputId": "784d6661-52dd-4db5-c8c1-7e7561a62498"
      },
      "source": [
        "import numpy as np\n",
        "model = tf.keras.Sequential([tf.keras.layers.Dense(2, activation=None,use_bias=False)])\n",
        "model.build([0,2])\n",
        "model.set_weights([np.array([[1,2 ],\n",
        "        [ 3 , 4]]).transpose()])\n",
        "model(tf.constant([[1, 2],[3, 4]],dtype=tf.float32))"
      ],
      "execution_count": 91,
      "outputs": [
        {
          "output_type": "execute_result",
          "data": {
            "text/plain": [
              "<tf.Tensor: shape=(2, 2), dtype=float32, numpy=\n",
              "array([[ 5., 11.],\n",
              "       [11., 25.]], dtype=float32)>"
            ]
          },
          "metadata": {
            "tags": []
          },
          "execution_count": 91
        }
      ]
    },
    {
      "cell_type": "markdown",
      "metadata": {
        "id": "VbBv44odSsFk"
      },
      "source": [
        "#### *PyTorch*"
      ]
    },
    {
      "cell_type": "code",
      "metadata": {
        "colab": {
          "base_uri": "https://localhost:8080/"
        },
        "id": "QHn_l73cSsFl",
        "outputId": "a0063c2d-885b-4a0e-e031-fcb26e75e047"
      },
      "source": [
        "model = nn.Linear(2, 2, bias=False)\n",
        "\n",
        "with torch.no_grad():\n",
        "    model.weight = nn.Parameter(torch.Tensor([[1, 2],[3, 4]]))\n",
        "\n",
        "model(torch.Tensor([[1, 2],[3, 4]]))"
      ],
      "execution_count": 92,
      "outputs": [
        {
          "output_type": "execute_result",
          "data": {
            "text/plain": [
              "tensor([[ 5., 11.],\n",
              "        [11., 25.]], grad_fn=<MmBackward>)"
            ]
          },
          "metadata": {
            "tags": []
          },
          "execution_count": 92
        }
      ]
    },
    {
      "cell_type": "markdown",
      "metadata": {
        "id": "sFbApIOkez5n"
      },
      "source": [
        "\n",
        "## Convolution 1D"
      ]
    },
    {
      "cell_type": "markdown",
      "metadata": {
        "id": "4HoEb2mIez53"
      },
      "source": [
        "#### *TensorFlow*"
      ]
    },
    {
      "cell_type": "code",
      "metadata": {
        "colab": {
          "base_uri": "https://localhost:8080/"
        },
        "id": "_rvqCT_Dez53",
        "outputId": "eef11782-1b7e-4cb4-9d0b-029b38b85da0"
      },
      "source": [
        "import numpy as np\n",
        "tf_inputs =  np.random.rand(1, 16, 1)\n",
        "tf_weights = np.random.rand(3, 1, 4)\n",
        "\n",
        "\n",
        "model = tf.keras.Sequential([tf.keras.layers.Conv1D(filters=4, kernel_size=3,use_bias=False)])\n",
        "model.build(tf_inputs.shape)\n",
        "model.set_weights([tf_weights])\n",
        "tf.reduce_sum(model(tf_inputs))\n",
        "\n"
      ],
      "execution_count": 228,
      "outputs": [
        {
          "output_type": "execute_result",
          "data": {
            "text/plain": [
              "<tf.Tensor: shape=(), dtype=float32, numpy=50.621925>"
            ]
          },
          "metadata": {
            "tags": []
          },
          "execution_count": 228
        }
      ]
    },
    {
      "cell_type": "markdown",
      "metadata": {
        "id": "Qo8dX21Jez55"
      },
      "source": [
        "#### *PyTorch*"
      ]
    },
    {
      "cell_type": "code",
      "metadata": {
        "colab": {
          "base_uri": "https://localhost:8080/"
        },
        "id": "Iag3rJDmez55",
        "outputId": "e3664126-5f38-4ebf-eeb0-b3c7652f9fe6"
      },
      "source": [
        "\n",
        "model = nn.Conv1d(in_channels=1, out_channels=4, kernel_size=3, bias=False)\n",
        "\n",
        "model.weight = nn.Parameter(torch.Tensor(tf_weights).permute(2,1,0))\n",
        "model(torch.Tensor(tf_inputs).permute(0,2,1)).sum()\n"
      ],
      "execution_count": 233,
      "outputs": [
        {
          "output_type": "execute_result",
          "data": {
            "text/plain": [
              "tensor(50.6219, grad_fn=<SumBackward0>)"
            ]
          },
          "metadata": {
            "tags": []
          },
          "execution_count": 233
        }
      ]
    },
    {
      "cell_type": "markdown",
      "metadata": {
        "id": "Eyy1HBGGQ9fe"
      },
      "source": [
        "\n",
        "## Convolution 2D"
      ]
    },
    {
      "cell_type": "markdown",
      "metadata": {
        "id": "vJlxEpD2Q9fn"
      },
      "source": [
        "#### *TensorFlow*"
      ]
    },
    {
      "cell_type": "code",
      "metadata": {
        "colab": {
          "base_uri": "https://localhost:8080/"
        },
        "id": "H1CRBUxZQ9fn",
        "outputId": "9ea24dbc-e0ec-4dee-dec6-79f5dd53c0e4"
      },
      "source": [
        "import numpy as np\n",
        "tf_inputs =  np.random.rand(1, 16, 16, 1)\n",
        "tf_weights = np.random.rand(3,3, 1, 4)\n",
        "\n",
        "\n",
        "model = tf.keras.Sequential([tf.keras.layers.Conv2D(filters=4, kernel_size=3,use_bias=False)])\n",
        "model.build(tf_inputs.shape)\n",
        "model.set_weights([tf_weights])\n",
        "tf.reduce_sum(model(tf_inputs))\n"
      ],
      "execution_count": 223,
      "outputs": [
        {
          "output_type": "execute_result",
          "data": {
            "text/plain": [
              "<tf.Tensor: shape=(), dtype=float32, numpy=1706.0408>"
            ]
          },
          "metadata": {
            "tags": []
          },
          "execution_count": 223
        }
      ]
    },
    {
      "cell_type": "markdown",
      "metadata": {
        "id": "d3DqnzZ1Q9fo"
      },
      "source": [
        "#### *PyTorch*"
      ]
    },
    {
      "cell_type": "code",
      "metadata": {
        "colab": {
          "base_uri": "https://localhost:8080/"
        },
        "id": "7BE-_PEIQ9fo",
        "outputId": "d01892d5-014d-47c7-951a-016c462a41bd"
      },
      "source": [
        "\n",
        "model = nn.Conv2d(in_channels=1, out_channels=4, kernel_size=3, bias=False)\n",
        "\n",
        "model.weight = nn.Parameter(torch.Tensor(tf_weights).permute(3,2,0,1))\n",
        "model(torch.Tensor(tf_inputs).permute(0,3,1,2)).sum()"
      ],
      "execution_count": 224,
      "outputs": [
        {
          "output_type": "execute_result",
          "data": {
            "text/plain": [
              "tensor(1706.0408, grad_fn=<SumBackward0>)"
            ]
          },
          "metadata": {
            "tags": []
          },
          "execution_count": 224
        }
      ]
    }
  ]
}