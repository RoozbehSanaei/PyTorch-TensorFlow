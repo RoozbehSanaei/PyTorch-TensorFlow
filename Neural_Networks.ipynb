{
  "nbformat": 4,
  "nbformat_minor": 0,
  "metadata": {
    "colab": {
      "name": "Neural Networks.ipynb",
      "provenance": [],
      "collapsed_sections": [],
      "authorship_tag": "ABX9TyNqUGcLLHOb6N4Ls0/R2Ide",
      "include_colab_link": true
    },
    "kernelspec": {
      "name": "python3",
      "display_name": "Python 3"
    },
    "language_info": {
      "name": "python"
    }
  },
  "cells": [
    {
      "cell_type": "markdown",
      "metadata": {
        "id": "view-in-github",
        "colab_type": "text"
      },
      "source": [
        "<a href=\"https://colab.research.google.com/github/RoozbehSanaei/PyTorch-TensorFlow/blob/gh-pages/Neural_Networks.ipynb\" target=\"_parent\"><img src=\"https://colab.research.google.com/assets/colab-badge.svg\" alt=\"Open In Colab\"/></a>"
      ]
    },
    {
      "cell_type": "code",
      "metadata": {
        "id": "j_Q9-EHhFDd1"
      },
      "source": [
        "import tensorflow as tf\n",
        "import torch\n",
        "import tensorflow_probability as tfp\n",
        "from torch import nn"
      ],
      "execution_count": null,
      "outputs": []
    },
    {
      "cell_type": "markdown",
      "metadata": {
        "id": "MuHL2j9qonWc"
      },
      "source": [
        "\n",
        "# Activation Functions"
      ]
    },
    {
      "cell_type": "markdown",
      "metadata": {
        "id": "zXw-cncOYjk6"
      },
      "source": [
        "\n",
        "## Sigmoid"
      ]
    },
    {
      "cell_type": "markdown",
      "metadata": {
        "id": "e8PeeixEpDvd"
      },
      "source": [
        "##### *TensorFlow*"
      ]
    },
    {
      "cell_type": "code",
      "metadata": {
        "id": "ldRGZbSVpDvf",
        "colab": {
          "base_uri": "https://localhost:8080/"
        },
        "outputId": "384306df-04bf-480a-9729-7f74b60f7f03"
      },
      "source": [
        "tf.keras.activations.sigmoid(tf.constant([[1, 2],[3, 4],[5, 6]],dtype=tf.float32))"
      ],
      "execution_count": null,
      "outputs": [
        {
          "output_type": "execute_result",
          "data": {
            "text/plain": [
              "<tf.Tensor: shape=(3, 2), dtype=float32, numpy=\n",
              "array([[0.7310586 , 0.8807971 ],\n",
              "       [0.95257413, 0.98201376],\n",
              "       [0.9933071 , 0.99752736]], dtype=float32)>"
            ]
          },
          "metadata": {
            "tags": []
          },
          "execution_count": 12
        }
      ]
    },
    {
      "cell_type": "markdown",
      "metadata": {
        "id": "kr49rG8roxOA"
      },
      "source": [
        "##### *PyTorch*"
      ]
    },
    {
      "cell_type": "code",
      "metadata": {
        "id": "3kpAWxVi-cXn",
        "colab": {
          "base_uri": "https://localhost:8080/"
        },
        "outputId": "ff2eeaf7-8330-42d7-a479-508e23054c18"
      },
      "source": [
        "nn.Sigmoid()(torch.Tensor([[1, 2],[3, 4],[5, 6]]))"
      ],
      "execution_count": null,
      "outputs": [
        {
          "output_type": "execute_result",
          "data": {
            "text/plain": [
              "tensor([[0.7311, 0.8808],\n",
              "        [0.9526, 0.9820],\n",
              "        [0.9933, 0.9975]])"
            ]
          },
          "metadata": {
            "tags": []
          },
          "execution_count": 7
        }
      ]
    },
    {
      "cell_type": "markdown",
      "metadata": {
        "id": "H1ULJFqzTpkW"
      },
      "source": [
        "\n",
        "## Relu"
      ]
    },
    {
      "cell_type": "markdown",
      "metadata": {
        "id": "Bb0MwmP6Tpk9"
      },
      "source": [
        "#### *TensorFlow*"
      ]
    },
    {
      "cell_type": "code",
      "metadata": {
        "colab": {
          "base_uri": "https://localhost:8080/"
        },
        "id": "QXt3MzxjTpk_",
        "outputId": "486caada-6ece-4ed7-a359-d7d26aeb431d"
      },
      "source": [
        "tf.keras.activations.relu(tf.constant([[-1, 2],[3, 4],[-5, 6]],dtype=tf.float32))"
      ],
      "execution_count": null,
      "outputs": [
        {
          "output_type": "execute_result",
          "data": {
            "text/plain": [
              "<tf.Tensor: shape=(3, 2), dtype=float32, numpy=\n",
              "array([[0., 2.],\n",
              "       [3., 4.],\n",
              "       [0., 6.]], dtype=float32)>"
            ]
          },
          "metadata": {
            "tags": []
          },
          "execution_count": 14
        }
      ]
    },
    {
      "cell_type": "markdown",
      "metadata": {
        "id": "H7qcVD8-TplB"
      },
      "source": [
        "#### *PyTorch*"
      ]
    },
    {
      "cell_type": "code",
      "metadata": {
        "colab": {
          "base_uri": "https://localhost:8080/"
        },
        "id": "LOhM87PETplC",
        "outputId": "05998440-0f30-47fa-f803-941d3007f025"
      },
      "source": [
        "nn.ReLU()(torch.Tensor([[-1, 2],[3, 4],[5, -6]]))"
      ],
      "execution_count": null,
      "outputs": [
        {
          "output_type": "execute_result",
          "data": {
            "text/plain": [
              "tensor([[0., 2.],\n",
              "        [3., 4.],\n",
              "        [5., 0.]])"
            ]
          },
          "metadata": {
            "tags": []
          },
          "execution_count": 3
        }
      ]
    },
    {
      "cell_type": "markdown",
      "metadata": {
        "id": "1sRJqkaVY1bc"
      },
      "source": [
        "# Layers"
      ]
    },
    {
      "cell_type": "markdown",
      "metadata": {
        "id": "b7SypxyVSsFD"
      },
      "source": [
        "\n",
        "### Linear"
      ]
    },
    {
      "cell_type": "markdown",
      "metadata": {
        "id": "wO4YHM-6SsFf"
      },
      "source": [
        "##### *TensorFlow*"
      ]
    },
    {
      "cell_type": "code",
      "metadata": {
        "colab": {
          "base_uri": "https://localhost:8080/"
        },
        "id": "g2zRxPXOSsFg",
        "outputId": "784d6661-52dd-4db5-c8c1-7e7561a62498"
      },
      "source": [
        "import numpy as np\n",
        "model = tf.keras.Sequential([tf.keras.layers.Dense(2, activation=None,use_bias=False)])\n",
        "model.build([0,2])\n",
        "model.set_weights([np.array([[1,2 ],\n",
        "        [ 3 , 4]]).transpose()])\n",
        "model(tf.constant([[1, 2],[3, 4]],dtype=tf.float32))"
      ],
      "execution_count": null,
      "outputs": [
        {
          "output_type": "execute_result",
          "data": {
            "text/plain": [
              "<tf.Tensor: shape=(2, 2), dtype=float32, numpy=\n",
              "array([[ 5., 11.],\n",
              "       [11., 25.]], dtype=float32)>"
            ]
          },
          "metadata": {
            "tags": []
          },
          "execution_count": 91
        }
      ]
    },
    {
      "cell_type": "markdown",
      "metadata": {
        "id": "VbBv44odSsFk"
      },
      "source": [
        "##### *PyTorch*"
      ]
    },
    {
      "cell_type": "code",
      "metadata": {
        "colab": {
          "base_uri": "https://localhost:8080/"
        },
        "id": "QHn_l73cSsFl",
        "outputId": "a0063c2d-885b-4a0e-e031-fcb26e75e047"
      },
      "source": [
        "model = nn.Linear(2, 2, bias=False)\n",
        "\n",
        "with torch.no_grad():\n",
        "    model.weight = nn.Parameter(torch.Tensor([[1, 2],[3, 4]]))\n",
        "\n",
        "model(torch.Tensor([[1, 2],[3, 4]]))"
      ],
      "execution_count": null,
      "outputs": [
        {
          "output_type": "execute_result",
          "data": {
            "text/plain": [
              "tensor([[ 5., 11.],\n",
              "        [11., 25.]], grad_fn=<MmBackward>)"
            ]
          },
          "metadata": {
            "tags": []
          },
          "execution_count": 92
        }
      ]
    },
    {
      "cell_type": "markdown",
      "metadata": {
        "id": "jOsHwTeWZDuN"
      },
      "source": [
        "## Convolution"
      ]
    },
    {
      "cell_type": "markdown",
      "metadata": {
        "id": "sFbApIOkez5n"
      },
      "source": [
        "\n",
        "### Convolution 1D"
      ]
    },
    {
      "cell_type": "markdown",
      "metadata": {
        "id": "4HoEb2mIez53"
      },
      "source": [
        "#### *TensorFlow*"
      ]
    },
    {
      "cell_type": "code",
      "metadata": {
        "colab": {
          "base_uri": "https://localhost:8080/"
        },
        "id": "_rvqCT_Dez53",
        "outputId": "11d149ae-a626-40d4-b249-d47d5b122876"
      },
      "source": [
        "import numpy as np\n",
        "tf_inputs =  np.random.rand(1, 16, 1)\n",
        "tf_weights = np.random.rand(3, 1, 4)\n",
        "\n",
        "\n",
        "model = tf.keras.Sequential([tf.keras.layers.Conv1D(filters=4, kernel_size=3,use_bias=False)])\n",
        "model.build(tf_inputs.shape)\n",
        "model.set_weights([tf_weights])\n",
        "tf.reduce_sum(model(tf_inputs))\n",
        "\n"
      ],
      "execution_count": null,
      "outputs": [
        {
          "output_type": "execute_result",
          "data": {
            "text/plain": [
              "<tf.Tensor: shape=(), dtype=float32, numpy=42.406647>"
            ]
          },
          "metadata": {
            "tags": []
          },
          "execution_count": 10
        }
      ]
    },
    {
      "cell_type": "markdown",
      "metadata": {
        "id": "Qo8dX21Jez55"
      },
      "source": [
        "#### *PyTorch*"
      ]
    },
    {
      "cell_type": "code",
      "metadata": {
        "colab": {
          "base_uri": "https://localhost:8080/"
        },
        "id": "Iag3rJDmez55",
        "outputId": "6a800160-c6a3-4b2c-bb4c-01d38bbe3c63"
      },
      "source": [
        "\n",
        "model = nn.Conv1d(in_channels=1, out_channels=4, kernel_size=3, bias=False)\n",
        "\n",
        "model.weight = nn.Parameter(torch.Tensor(tf_weights).permute(2,1,0))\n",
        "model(torch.Tensor(tf_inputs).permute(0,2,1)).sum()\n"
      ],
      "execution_count": null,
      "outputs": [
        {
          "output_type": "execute_result",
          "data": {
            "text/plain": [
              "tensor(42.4066, grad_fn=<SumBackward0>)"
            ]
          },
          "metadata": {
            "tags": []
          },
          "execution_count": 11
        }
      ]
    },
    {
      "cell_type": "markdown",
      "metadata": {
        "id": "Eyy1HBGGQ9fe"
      },
      "source": [
        "\n",
        "### Convolution 2D"
      ]
    },
    {
      "cell_type": "markdown",
      "metadata": {
        "id": "vJlxEpD2Q9fn"
      },
      "source": [
        "#### *TensorFlow*"
      ]
    },
    {
      "cell_type": "code",
      "metadata": {
        "colab": {
          "base_uri": "https://localhost:8080/"
        },
        "id": "H1CRBUxZQ9fn",
        "outputId": "9ea24dbc-e0ec-4dee-dec6-79f5dd53c0e4"
      },
      "source": [
        "import numpy as np\n",
        "tf_inputs =  np.random.rand(1, 16, 16, 1)\n",
        "tf_weights = np.random.rand(3,3, 1, 4)\n",
        "\n",
        "\n",
        "model = tf.keras.Sequential([tf.keras.layers.Conv2D(filters=4, kernel_size=3,use_bias=False)])\n",
        "model.build(tf_inputs.shape)\n",
        "model.set_weights([tf_weights])\n",
        "tf.reduce_sum(model(tf_inputs))\n"
      ],
      "execution_count": null,
      "outputs": [
        {
          "output_type": "execute_result",
          "data": {
            "text/plain": [
              "<tf.Tensor: shape=(), dtype=float32, numpy=1706.0408>"
            ]
          },
          "metadata": {
            "tags": []
          },
          "execution_count": 223
        }
      ]
    },
    {
      "cell_type": "markdown",
      "metadata": {
        "id": "d3DqnzZ1Q9fo"
      },
      "source": [
        "#### *PyTorch*"
      ]
    },
    {
      "cell_type": "code",
      "metadata": {
        "colab": {
          "base_uri": "https://localhost:8080/"
        },
        "id": "7BE-_PEIQ9fo",
        "outputId": "d01892d5-014d-47c7-951a-016c462a41bd"
      },
      "source": [
        "\n",
        "model = nn.Conv2d(in_channels=1, out_channels=4, kernel_size=3, bias=False)\n",
        "\n",
        "model.weight = nn.Parameter(torch.Tensor(tf_weights).permute(3,2,0,1))\n",
        "model(torch.Tensor(tf_inputs).permute(0,3,1,2)).sum()"
      ],
      "execution_count": null,
      "outputs": [
        {
          "output_type": "execute_result",
          "data": {
            "text/plain": [
              "tensor(1706.0408, grad_fn=<SumBackward0>)"
            ]
          },
          "metadata": {
            "tags": []
          },
          "execution_count": 224
        }
      ]
    },
    {
      "cell_type": "markdown",
      "metadata": {
        "id": "N4sOYh3iZxF3"
      },
      "source": [
        "\n",
        "### Convolution 3D"
      ]
    },
    {
      "cell_type": "markdown",
      "metadata": {
        "id": "h3eJKVaGZxF4"
      },
      "source": [
        "#### *TensorFlow*"
      ]
    },
    {
      "cell_type": "code",
      "metadata": {
        "colab": {
          "base_uri": "https://localhost:8080/"
        },
        "id": "fbjUiJgrZxF4",
        "outputId": "14aaf041-df33-4336-f3bc-eb425e52b375"
      },
      "source": [
        "import numpy as np\n",
        "tf_inputs =  np.random.rand(1, 16, 16, 16, 1)\n",
        "tf_weights = np.random.rand(3,3,3, 1, 4)\n",
        "\n",
        "\n",
        "model = tf.keras.Sequential([tf.keras.layers.Conv3D(filters=4, kernel_size=3,use_bias=False)])\n",
        "model.build(tf_inputs.shape)\n",
        "model.set_weights([tf_weights])\n",
        "tf.reduce_sum(model(tf_inputs))\n"
      ],
      "execution_count": null,
      "outputs": [
        {
          "output_type": "execute_result",
          "data": {
            "text/plain": [
              "<tf.Tensor: shape=(), dtype=float32, numpy=77325.62>"
            ]
          },
          "metadata": {
            "tags": []
          },
          "execution_count": 2
        }
      ]
    },
    {
      "cell_type": "markdown",
      "metadata": {
        "id": "C3Z1PEnNZxF5"
      },
      "source": [
        "#### *PyTorch*"
      ]
    },
    {
      "cell_type": "code",
      "metadata": {
        "colab": {
          "base_uri": "https://localhost:8080/"
        },
        "id": "eUX0gn8wZxF6",
        "outputId": "7d3a0982-48c1-467f-f032-9fd1b4f6dc92"
      },
      "source": [
        "\n",
        "model = nn.Conv3d(in_channels=1, out_channels=4, kernel_size=3, bias=False)\n",
        "model.weight = nn.Parameter(torch.Tensor(tf_weights).permute(4,3,0,1,2))\n",
        "model(torch.Tensor(tf_inputs).permute(0,4,1,2,3)).sum()"
      ],
      "execution_count": null,
      "outputs": [
        {
          "output_type": "execute_result",
          "data": {
            "text/plain": [
              "tensor(77325.6094, grad_fn=<SumBackward0>)"
            ]
          },
          "metadata": {
            "tags": []
          },
          "execution_count": 3
        }
      ]
    },
    {
      "cell_type": "markdown",
      "metadata": {
        "id": "BSl2Kq_JaeDV"
      },
      "source": [
        "## Transpose Convolution"
      ]
    },
    {
      "cell_type": "markdown",
      "metadata": {
        "id": "_krU-LRxaeDd"
      },
      "source": [
        "\n",
        "### Transpose Convolution 1D"
      ]
    },
    {
      "cell_type": "markdown",
      "metadata": {
        "id": "mWAPIDn2aeDd"
      },
      "source": [
        "#### *TensorFlow*"
      ]
    },
    {
      "cell_type": "code",
      "metadata": {
        "colab": {
          "base_uri": "https://localhost:8080/"
        },
        "id": "b5jSVsVYaeDd",
        "outputId": "6345829a-439c-4a7d-d5fc-8ffc5db6fba9"
      },
      "source": [
        "import numpy as np\n",
        "tf_inputs =  np.random.rand(1, 16, 1)\n",
        "tf_weights = np.random.rand(3, 4, 1)\n",
        "\n",
        "\n",
        "model = tf.keras.Sequential([tf.keras.layers.Conv1DTranspose(filters=4, kernel_size=3,use_bias=False)])\n",
        "model.build(tf_inputs.shape)\n",
        "model.set_weights([tf_weights])\n",
        "tf.reduce_sum(model(tf_inputs))"
      ],
      "execution_count": null,
      "outputs": [
        {
          "output_type": "execute_result",
          "data": {
            "text/plain": [
              "<tf.Tensor: shape=(), dtype=float32, numpy=60.12165>"
            ]
          },
          "metadata": {
            "tags": []
          },
          "execution_count": 47
        }
      ]
    },
    {
      "cell_type": "markdown",
      "metadata": {
        "id": "4cX4rJrjaeDe"
      },
      "source": [
        "#### *PyTorch*"
      ]
    },
    {
      "cell_type": "code",
      "metadata": {
        "colab": {
          "base_uri": "https://localhost:8080/"
        },
        "id": "1NB7qWI0aeDe",
        "outputId": "15bb787e-ee7a-43be-bef6-785d918b66cb"
      },
      "source": [
        "\n",
        "model = nn.ConvTranspose1d(in_channels=1, out_channels=4, kernel_size=3, bias=False)\n",
        "model.weight.shape\n",
        "model.weight = nn.Parameter(torch.Tensor(tf_weights).permute(2,1,0))\n",
        "model(torch.Tensor(tf_inputs).permute(0,2,1)).sum()\n"
      ],
      "execution_count": null,
      "outputs": [
        {
          "output_type": "execute_result",
          "data": {
            "text/plain": [
              "tensor(60.1217, grad_fn=<SumBackward0>)"
            ]
          },
          "metadata": {
            "tags": []
          },
          "execution_count": 48
        }
      ]
    },
    {
      "cell_type": "markdown",
      "metadata": {
        "id": "iI1x8qrKyWxs"
      },
      "source": [
        "\n",
        "### Transpose Convolution 2D"
      ]
    },
    {
      "cell_type": "markdown",
      "metadata": {
        "id": "MGTz8neYyWx1"
      },
      "source": [
        "#### *TensorFlow*"
      ]
    },
    {
      "cell_type": "code",
      "metadata": {
        "colab": {
          "base_uri": "https://localhost:8080/"
        },
        "id": "1l2e6t8ryWx1",
        "outputId": "184d58ee-3d28-4ccb-9c24-0ffc5f425af7"
      },
      "source": [
        "import numpy as np\n",
        "tf_inputs =  np.random.rand(1, 16, 16,1)\n",
        "tf_weights = np.random.rand(3,3, 4, 1)\n",
        "\n",
        "\n",
        "model = tf.keras.Sequential([tf.keras.layers.Conv2DTranspose(filters=4, kernel_size=3,use_bias=False)])\n",
        "model.build(tf_inputs.shape)\n",
        "model.set_weights([tf_weights])\n",
        "tf.reduce_sum(model(tf_inputs))"
      ],
      "execution_count": null,
      "outputs": [
        {
          "output_type": "execute_result",
          "data": {
            "text/plain": [
              "<tf.Tensor: shape=(), dtype=float32, numpy=2296.458>"
            ]
          },
          "metadata": {
            "tags": []
          },
          "execution_count": 57
        }
      ]
    },
    {
      "cell_type": "markdown",
      "metadata": {
        "id": "Hh0Q7mFwyWx2"
      },
      "source": [
        "#### *PyTorch*"
      ]
    },
    {
      "cell_type": "code",
      "metadata": {
        "colab": {
          "base_uri": "https://localhost:8080/"
        },
        "id": "WsxW8sZMyWx2",
        "outputId": "bdc2b409-ed8f-41cc-e1b4-7bf6df6fdb6e"
      },
      "source": [
        "\n",
        "model = nn.ConvTranspose2d(in_channels=1, out_channels=4, kernel_size=3, bias=False)\n",
        "model.weight = nn.Parameter(torch.Tensor(tf_weights).permute(3,2,0,1))\n",
        "model(torch.Tensor(tf_inputs).permute(0,3,1,2)).sum()"
      ],
      "execution_count": null,
      "outputs": [
        {
          "output_type": "execute_result",
          "data": {
            "text/plain": [
              "tensor(2296.4580, grad_fn=<SumBackward0>)"
            ]
          },
          "metadata": {
            "tags": []
          },
          "execution_count": 62
        }
      ]
    },
    {
      "cell_type": "markdown",
      "metadata": {
        "id": "z4AkHq6Vwz6F"
      },
      "source": [
        "\n",
        "### Transpose Convolution 2D"
      ]
    },
    {
      "cell_type": "markdown",
      "metadata": {
        "id": "R109gDSBwz6S"
      },
      "source": [
        "#### *TensorFlow*"
      ]
    },
    {
      "cell_type": "code",
      "metadata": {
        "colab": {
          "base_uri": "https://localhost:8080/"
        },
        "id": "PhSDXt64wz6S",
        "outputId": "3c1029e9-cabf-402a-a729-459f40c52415"
      },
      "source": [
        "import numpy as np\n",
        "tf_inputs =  np.random.rand(1, 16, 16,16,1)\n",
        "tf_weights = np.random.rand(3,3,3, 4, 1)\n",
        "\n",
        "\n",
        "model = tf.keras.Sequential([tf.keras.layers.Conv3DTranspose(filters=4, kernel_size=3,use_bias=False)])\n",
        "model.build(tf_inputs.shape)\n",
        "model.set_weights([tf_weights])\n",
        "tf.reduce_sum(model(tf_inputs))"
      ],
      "execution_count": 69,
      "outputs": [
        {
          "output_type": "execute_result",
          "data": {
            "text/plain": [
              "<tf.Tensor: shape=(), dtype=float32, numpy=107993.59>"
            ]
          },
          "metadata": {
            "tags": []
          },
          "execution_count": 69
        }
      ]
    },
    {
      "cell_type": "markdown",
      "metadata": {
        "id": "X7WZpfKqwz6T"
      },
      "source": [
        "#### *PyTorch*"
      ]
    },
    {
      "cell_type": "code",
      "metadata": {
        "colab": {
          "base_uri": "https://localhost:8080/"
        },
        "id": "HEsE-43wwz6T",
        "outputId": "5e985f95-770f-401e-ef47-5c32581b18ac"
      },
      "source": [
        "\n",
        "model = nn.ConvTranspose3d(in_channels=1, out_channels=4, kernel_size=3, bias=False)\n",
        "model.weight = nn.Parameter(torch.Tensor(tf_weights).permute(4,3,0,1,2))\n",
        "model(torch.Tensor(tf_inputs).permute(0,4,1,2,3)).sum()"
      ],
      "execution_count": 71,
      "outputs": [
        {
          "output_type": "execute_result",
          "data": {
            "text/plain": [
              "tensor(107993.5938, grad_fn=<SumBackward0>)"
            ]
          },
          "metadata": {
            "tags": []
          },
          "execution_count": 71
        }
      ]
    }
  ]
}