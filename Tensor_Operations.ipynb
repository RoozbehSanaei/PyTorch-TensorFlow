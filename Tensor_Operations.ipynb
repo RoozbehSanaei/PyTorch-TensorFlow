{
  "nbformat": 4,
  "nbformat_minor": 0,
  "metadata": {
    "colab": {
      "name": "Tensor Operations.ipynb",
      "provenance": [],
      "authorship_tag": "ABX9TyPPpdvRM1qXRPjWZRfgUTzL",
      "include_colab_link": true
    },
    "kernelspec": {
      "name": "python3",
      "display_name": "Python 3"
    },
    "language_info": {
      "name": "python"
    }
  },
  "cells": [
    {
      "cell_type": "markdown",
      "metadata": {
        "id": "view-in-github",
        "colab_type": "text"
      },
      "source": [
        "<a href=\"https://colab.research.google.com/github/RoozbehSanaei/PyTorch-TensorFlow/blob/gh-pages/Tensor_Operations.ipynb\" target=\"_parent\"><img src=\"https://colab.research.google.com/assets/colab-badge.svg\" alt=\"Open In Colab\"/></a>"
      ]
    },
    {
      "cell_type": "code",
      "metadata": {
        "id": "j_Q9-EHhFDd1"
      },
      "source": [
        "import tensorflow as tf\n",
        "import torch\n",
        "import tensorflow_probability as tfp"
      ],
      "execution_count": null,
      "outputs": []
    },
    {
      "cell_type": "markdown",
      "metadata": {
        "id": "CilLt8T4UZ5q"
      },
      "source": [
        "### Reshaping Tensors\n",
        "\n"
      ]
    },
    {
      "cell_type": "markdown",
      "metadata": {
        "id": "eIKhxB8_UZ54"
      },
      "source": [
        "#### *TensorFlow*"
      ]
    },
    {
      "cell_type": "code",
      "metadata": {
        "colab": {
          "base_uri": "https://localhost:8080/"
        },
        "id": "COnZ142OUZ55",
        "outputId": "55bc8aff-147a-4761-97e7-5d491cb5d368"
      },
      "source": [
        "tf.reshape(tf.constant([[1, 2],[3, 4],[5, 6]], dtype=tf.float16), [2, 3])"
      ],
      "execution_count": null,
      "outputs": [
        {
          "output_type": "execute_result",
          "data": {
            "text/plain": [
              "<tf.Tensor: shape=(2, 3), dtype=float16, numpy=\n",
              "array([[1., 2., 3.],\n",
              "       [4., 5., 6.]], dtype=float16)>"
            ]
          },
          "metadata": {
            "tags": []
          },
          "execution_count": 75
        }
      ]
    },
    {
      "cell_type": "markdown",
      "metadata": {
        "id": "VW3LjoWEUZ56"
      },
      "source": [
        "#### *PyTorch*"
      ]
    },
    {
      "cell_type": "code",
      "metadata": {
        "colab": {
          "base_uri": "https://localhost:8080/"
        },
        "id": "saEOXQlWUZ56",
        "outputId": "6b0d02d0-bc68-4e42-d551-c9713ad7a372"
      },
      "source": [
        "torch.HalfTensor([[1, 2],[3, 4],[5, 6]],device=torch.device('cpu'))"
      ],
      "execution_count": null,
      "outputs": [
        {
          "output_type": "execute_result",
          "data": {
            "text/plain": [
              "tensor([[1., 1., 1., 1., 1., 1., 1., 0., 0., 0.],\n",
              "        [1., 0., 1., 1., 1., 0., 1., 1., 0., 0.],\n",
              "        [1., 0., 0., 1., 1., 1., 0., 1., 1., 1.],\n",
              "        [1., 1., 1., 1., 0., 1., 1., 1., 1., 1.],\n",
              "        [1., 0., 0., 1., 1., 1., 1., 1., 1., 1.],\n",
              "        [1., 1., 1., 1., 1., 0., 0., 0., 1., 1.],\n",
              "        [1., 1., 1., 1., 1., 1., 1., 1., 0., 1.],\n",
              "        [1., 1., 0., 0., 0., 1., 0., 1., 1., 0.],\n",
              "        [1., 1., 1., 0., 1., 1., 1., 1., 1., 1.],\n",
              "        [1., 1., 1., 1., 1., 1., 1., 1., 1., 0.]])"
            ]
          },
          "metadata": {
            "tags": []
          },
          "execution_count": 72
        }
      ]
    },
    {
      "cell_type": "markdown",
      "metadata": {
        "id": "zdJVqPW5rSOv"
      },
      "source": [
        "### Tensor DataTypes\n"
      ]
    },
    {
      "cell_type": "markdown",
      "metadata": {
        "id": "z54ytMUMqO-I"
      },
      "source": [
        "For different datatypes in TensorFlow see [here](https://www.tensorflow.org/api_docs/python/tf/dtypes/DType)"
      ]
    },
    {
      "cell_type": "markdown",
      "metadata": {
        "id": "b84fCkM5qxqy"
      },
      "source": [
        "For different datatypes in PyTorch see [here](https://pytorch.org/docs/stable/tensors.html)"
      ]
    }
  ]
}