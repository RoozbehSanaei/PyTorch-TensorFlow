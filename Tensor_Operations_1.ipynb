{
  "nbformat": 4,
  "nbformat_minor": 0,
  "metadata": {
    "colab": {
      "name": "Tensor Operations 1.ipynb",
      "provenance": [],
      "collapsed_sections": [],
      "authorship_tag": "ABX9TyNtdDek29wy9wbRFBafkF5d",
      "include_colab_link": true
    },
    "kernelspec": {
      "name": "python3",
      "display_name": "Python 3"
    },
    "language_info": {
      "name": "python"
    }
  },
  "cells": [
    {
      "cell_type": "markdown",
      "metadata": {
        "id": "view-in-github",
        "colab_type": "text"
      },
      "source": [
        "<a href=\"https://colab.research.google.com/github/RoozbehSanaei/PyTorch-TensorFlow/blob/gh-pages/Tensor_Operations_1.ipynb\" target=\"_parent\"><img src=\"https://colab.research.google.com/assets/colab-badge.svg\" alt=\"Open In Colab\"/></a>"
      ]
    },
    {
      "cell_type": "code",
      "metadata": {
        "id": "j_Q9-EHhFDd1"
      },
      "source": [
        "import tensorflow as tf\n",
        "import torch"
      ],
      "execution_count": null,
      "outputs": []
    },
    {
      "cell_type": "markdown",
      "metadata": {
        "id": "ZzfRUVH9iRcr"
      },
      "source": [
        "###  Tensors Maximum and Maximum\n",
        "\n"
      ]
    },
    {
      "cell_type": "markdown",
      "metadata": {
        "id": "GNZgj0RciRc1"
      },
      "source": [
        "#### *TensorFlow*"
      ]
    },
    {
      "cell_type": "code",
      "metadata": {
        "colab": {
          "base_uri": "https://localhost:8080/"
        },
        "id": "2U15r3oZiRc2",
        "outputId": "6feaaabc-f2ac-4d02-afb2-a62897c07b88"
      },
      "source": [
        "tf_tensor = tf.constant([1,2,6,4,2,3], dtype=tf.float16)\n",
        "print(tf.math.reduce_max(tf_tensor).numpy())\n",
        "print(tf.math.reduce_min(tf_tensor).numpy())"
      ],
      "execution_count": null,
      "outputs": [
        {
          "output_type": "stream",
          "text": [
            "6.0\n",
            "1.0\n"
          ],
          "name": "stdout"
        }
      ]
    },
    {
      "cell_type": "markdown",
      "metadata": {
        "id": "JaOU-hOxiRc2"
      },
      "source": [
        "#### *PyTorch*"
      ]
    },
    {
      "cell_type": "code",
      "metadata": {
        "colab": {
          "base_uri": "https://localhost:8080/"
        },
        "id": "hz174V2EiRc3",
        "outputId": "1793c49e-3629-4592-ef0d-5647e9e5e7b4"
      },
      "source": [
        "torch_tensor =  torch.tensor([1, 2, 6, 3, 4])\n",
        "print(torch_tensor.max())\n",
        "print(torch_tensor.min())"
      ],
      "execution_count": null,
      "outputs": [
        {
          "output_type": "stream",
          "text": [
            "tensor(6)\n",
            "tensor(1)\n"
          ],
          "name": "stdout"
        }
      ]
    },
    {
      "cell_type": "markdown",
      "metadata": {
        "id": "Vw9hmmmNLbQw"
      },
      "source": [
        "###  Trigonometric Functions\n",
        "\n"
      ]
    },
    {
      "cell_type": "markdown",
      "metadata": {
        "id": "wF6A_mFNLbQ5"
      },
      "source": [
        "#### *TensorFlow*"
      ]
    },
    {
      "cell_type": "code",
      "metadata": {
        "colab": {
          "base_uri": "https://localhost:8080/"
        },
        "id": "RJjuuIIRLbQ6",
        "outputId": "d7823602-152f-4748-da8b-9d9940e679ae"
      },
      "source": [
        "tf_tensor = tf.constant([1,2,6,4,2,3], dtype=tf.float32)\n",
        "\n",
        "print(tf.sin(tf_tensor).numpy())\n",
        "print(tf.cos(tf_tensor).numpy())\n",
        "print(tf.tan(tf_tensor).numpy())\n",
        "print(tf.sinh(tf_tensor).numpy)\n",
        "print(tf.cosh(tf_tensor).numpy)\n",
        "print(tf.tanh(tf_tensor).numpy)\n"
      ],
      "execution_count": 34,
      "outputs": [
        {
          "output_type": "stream",
          "text": [
            "[ 0.84147096  0.9092974  -0.2794155  -0.7568025   0.9092974   0.14112   ]\n",
            "[ 0.5403023  -0.41614684  0.96017027 -0.6536436  -0.41614684 -0.9899925 ]\n",
            "[ 1.5574077  -2.1850398  -0.29100618  1.1578213  -2.1850398  -0.14254655]\n",
            "<bound method _EagerTensorBase.numpy of <tf.Tensor: shape=(6,), dtype=float32, numpy=\n",
            "array([  1.1752012,   3.6268604, 201.71317  ,  27.289919 ,   3.6268604,\n",
            "        10.017875 ], dtype=float32)>>\n",
            "<bound method _EagerTensorBase.numpy of <tf.Tensor: shape=(6,), dtype=float32, numpy=\n",
            "array([  1.5430806,   3.7621958, 201.71564  ,  27.308231 ,   3.7621958,\n",
            "        10.067662 ], dtype=float32)>>\n",
            "<bound method _EagerTensorBase.numpy of <tf.Tensor: shape=(6,), dtype=float32, numpy=\n",
            "array([0.7615942, 0.9640276, 0.9999876, 0.9993292, 0.9640276, 0.9950547],\n",
            "      dtype=float32)>>\n"
          ],
          "name": "stdout"
        }
      ]
    },
    {
      "cell_type": "markdown",
      "metadata": {
        "id": "wolwKdC5LbQ6"
      },
      "source": [
        "#### *PyTorch*"
      ]
    },
    {
      "cell_type": "code",
      "metadata": {
        "colab": {
          "base_uri": "https://localhost:8080/"
        },
        "id": "6qzoZnh8LbQ7",
        "outputId": "2b6d5222-6eb5-408d-c046-54a151f67bdb"
      },
      "source": [
        "torch_tensor =  torch.tensor([1, 2, 6, 3, 4])\n",
        "print(torch.sin(torch_tensor))\n",
        "print(torch.cos(torch_tensor))\n",
        "print(torch.tan(torch_tensor))\n",
        "print(torch.sinh(torch_tensor))\n",
        "print(torch.cosh(torch_tensor))\n",
        "print(torch.tanh(torch_tensor))\n"
      ],
      "execution_count": 35,
      "outputs": [
        {
          "output_type": "stream",
          "text": [
            "tensor([ 0.8415,  0.9093, -0.2794,  0.1411, -0.7568])\n",
            "tensor([ 0.5403, -0.4161,  0.9602, -0.9900, -0.6536])\n",
            "tensor([ 1.5574, -2.1850, -0.2910, -0.1425,  1.1578])\n",
            "tensor([  1.1752,   3.6269, 201.7132,  10.0179,  27.2899])\n",
            "tensor([  1.5431,   3.7622, 201.7156,  10.0677,  27.3082])\n",
            "tensor([0.7616, 0.9640, 1.0000, 0.9951, 0.9993])\n"
          ],
          "name": "stdout"
        }
      ]
    },
    {
      "cell_type": "markdown",
      "metadata": {
        "id": "eIKhxB8_UZ54"
      },
      "source": [
        "#### *TensorFlow*"
      ]
    },
    {
      "cell_type": "code",
      "metadata": {
        "colab": {
          "base_uri": "https://localhost:8080/"
        },
        "id": "COnZ142OUZ55",
        "outputId": "25b748f1-5bfc-4785-fa03-0c5bdffba85a"
      },
      "source": [
        "tf_tensor1 = tf.constant([[1, 2],[3, 4],[5, 6]], dtype=tf.float16)\n",
        "tf_tensor2 = tf.constant([[4, 3],[7, 1],[2, 4]], dtype=tf.float16)\n",
        "print(tf_tensor1 * tf_tensor2)\n",
        "print(tf_tensor1 + tf_tensor2)\n",
        "print(tf_tensor1 - tf_tensor2)"
      ],
      "execution_count": null,
      "outputs": [
        {
          "output_type": "stream",
          "text": [
            "tf.Tensor(\n",
            "[[ 4.  6.]\n",
            " [21.  4.]\n",
            " [10. 24.]], shape=(3, 2), dtype=float16)\n",
            "tf.Tensor(\n",
            "[[ 5.  5.]\n",
            " [10.  5.]\n",
            " [ 7. 10.]], shape=(3, 2), dtype=float16)\n",
            "tf.Tensor(\n",
            "[[-3. -1.]\n",
            " [-4.  3.]\n",
            " [ 3.  2.]], shape=(3, 2), dtype=float16)\n"
          ],
          "name": "stdout"
        }
      ]
    },
    {
      "cell_type": "markdown",
      "metadata": {
        "id": "VW3LjoWEUZ56"
      },
      "source": [
        "#### *PyTorch*"
      ]
    },
    {
      "cell_type": "code",
      "metadata": {
        "colab": {
          "base_uri": "https://localhost:8080/"
        },
        "id": "saEOXQlWUZ56",
        "outputId": "3307dee0-a3bc-41ce-8469-234a418ed174"
      },
      "source": [
        "torch_tensor1 = torch.HalfTensor([[1, 2],[3, 4],[5, 6]],device=torch.device('cpu'))\n",
        "torch_tensor2 = torch.HalfTensor([[4, 3],[7, 1],[2, 4]],device=torch.device('cpu'))\n",
        "print(torch_tensor1 * torch_tensor2)\n",
        "\n"
      ],
      "execution_count": null,
      "outputs": [
        {
          "output_type": "execute_result",
          "data": {
            "text/plain": [
              "tensor([[ 4.,  6.],\n",
              "        [21.,  4.],\n",
              "        [10., 24.]], dtype=torch.float16)"
            ]
          },
          "metadata": {
            "tags": []
          },
          "execution_count": 9
        }
      ]
    },
    {
      "cell_type": "markdown",
      "metadata": {
        "id": "qd9DDC0SUpja"
      },
      "source": [
        "###  Slice of A matrix\n",
        "\n"
      ]
    },
    {
      "cell_type": "markdown",
      "metadata": {
        "id": "TmH5uWPbUpjb"
      },
      "source": [
        "#### *TensorFlow*"
      ]
    },
    {
      "cell_type": "code",
      "metadata": {
        "colab": {
          "base_uri": "https://localhost:8080/"
        },
        "id": "xzQDy-blUpjb",
        "outputId": "991092f8-3671-4686-d41c-e70aedcbdc3c"
      },
      "source": [
        "tf_tensor = tf.constant([[11, 12, 13], [21, 22, 23], [31, 32, 33]])\n",
        "tf_tensor[1:3,2]"
      ],
      "execution_count": 47,
      "outputs": [
        {
          "output_type": "execute_result",
          "data": {
            "text/plain": [
              "<tf.Tensor: shape=(2,), dtype=int32, numpy=array([23, 33], dtype=int32)>"
            ]
          },
          "metadata": {
            "tags": []
          },
          "execution_count": 47
        }
      ]
    },
    {
      "cell_type": "markdown",
      "metadata": {
        "id": "5PtAadoeUpjd"
      },
      "source": [
        "#### *PyTorch*"
      ]
    },
    {
      "cell_type": "code",
      "metadata": {
        "colab": {
          "base_uri": "https://localhost:8080/"
        },
        "id": "Fz-NSBO4Upjd",
        "outputId": "5285d15d-7eba-4486-ee18-9af5ce512770"
      },
      "source": [
        "torch_tensor = torch.tensor([[11, 12, 13], [21, 22, 23], [31, 32, 33]])\n",
        "torch_tensor[1:3,2]"
      ],
      "execution_count": 48,
      "outputs": [
        {
          "output_type": "execute_result",
          "data": {
            "text/plain": [
              "tensor([23, 33])"
            ]
          },
          "metadata": {
            "tags": []
          },
          "execution_count": 48
        }
      ]
    },
    {
      "cell_type": "markdown",
      "metadata": {
        "id": "hn8BnC4JX-eB"
      },
      "source": [
        "###  Sum, product and mean of a tensor\n",
        "\n"
      ]
    },
    {
      "cell_type": "markdown",
      "metadata": {
        "id": "2rbRZETqX-ee"
      },
      "source": [
        "#### *TensorFlow*"
      ]
    },
    {
      "cell_type": "code",
      "metadata": {
        "colab": {
          "base_uri": "https://localhost:8080/"
        },
        "id": "fbAdvfh-X-ef",
        "outputId": "f68e0aae-aad1-49b4-e080-374d549fc072"
      },
      "source": [
        "tf_tensor = tf.constant([[11, 12], [13,14]],dtype=tf.float32)\n",
        "print(tf.reduce_sum(tf_tensor))\n",
        "print(tf.reduce_prod(tf_tensor))\n",
        "print(tf.reduce_mean(tf_tensor))"
      ],
      "execution_count": 66,
      "outputs": [
        {
          "output_type": "stream",
          "text": [
            "tf.Tensor(50.0, shape=(), dtype=float32)\n",
            "tf.Tensor(24024.0, shape=(), dtype=float32)\n",
            "tf.Tensor(12.5, shape=(), dtype=float32)\n"
          ],
          "name": "stdout"
        }
      ]
    },
    {
      "cell_type": "markdown",
      "metadata": {
        "id": "tNoHXP4sX-eh"
      },
      "source": [
        "#### *PyTorch*"
      ]
    },
    {
      "cell_type": "code",
      "metadata": {
        "colab": {
          "base_uri": "https://localhost:8080/"
        },
        "id": "HFJp10yZX-eh",
        "outputId": "931ad9e5-fc8a-469c-e17b-525e5587f875"
      },
      "source": [
        "torch_tensor = torch.tensor([[11, 12], [13,14]],dtype=torch.float32)\n",
        "print(torch_tensor.sum())\n",
        "print(torch_tensor.prod())\n",
        "print(torch_tensor.mean())"
      ],
      "execution_count": 64,
      "outputs": [
        {
          "output_type": "stream",
          "text": [
            "tensor(50.)\n",
            "tensor(24024.)\n",
            "tensor(12.5000)\n"
          ],
          "name": "stdout"
        }
      ]
    }
  ]
}