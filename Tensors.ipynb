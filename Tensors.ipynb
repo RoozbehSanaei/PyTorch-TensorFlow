{
  "nbformat": 4,
  "nbformat_minor": 0,
  "metadata": {
    "colab": {
      "name": "Tensors.ipynb",
      "provenance": [],
      "authorship_tag": "ABX9TyOl6QaWjyD5cD3VPAmxu2EH",
      "include_colab_link": true
    },
    "kernelspec": {
      "name": "python3",
      "display_name": "Python 3"
    },
    "language_info": {
      "name": "python"
    }
  },
  "cells": [
    {
      "cell_type": "markdown",
      "metadata": {
        "id": "view-in-github",
        "colab_type": "text"
      },
      "source": [
        "<a href=\"https://colab.research.google.com/github/RoozbehSanaei/PyTorch-TensorFlow/blob/gh-pages/Tensors.ipynb\" target=\"_parent\"><img src=\"https://colab.research.google.com/assets/colab-badge.svg\" alt=\"Open In Colab\"/></a>"
      ]
    },
    {
      "cell_type": "markdown",
      "metadata": {
        "id": "MuHL2j9qonWc"
      },
      "source": [
        "### Constant Tensors"
      ]
    },
    {
      "cell_type": "markdown",
      "metadata": {
        "id": "e8PeeixEpDvd"
      },
      "source": [
        "#### *TensorFlow*"
      ]
    },
    {
      "cell_type": "code",
      "metadata": {
        "id": "ldRGZbSVpDvf"
      },
      "source": [
        "tf_tensor = tf.constant([[1, 2],[3, 4],[5, 6]], dtype=tf.float16)"
      ],
      "execution_count": null,
      "outputs": []
    },
    {
      "cell_type": "markdown",
      "metadata": {
        "id": "kr49rG8roxOA"
      },
      "source": [
        "#### *PyTorch*"
      ]
    },
    {
      "cell_type": "code",
      "metadata": {
        "id": "3kpAWxVi-cXn"
      },
      "source": [
        "torch_tensor = torch.HalfTensor([[1, 2],[3, 4],[5, 6]],device=torch.device('cpu'))"
      ],
      "execution_count": null,
      "outputs": []
    },
    {
      "cell_type": "markdown",
      "metadata": {
        "id": "zdJVqPW5rSOv"
      },
      "source": [
        "### Tensor DataTypes"
      ]
    },
    {
      "cell_type": "markdown",
      "metadata": {
        "id": "z54ytMUMqO-I"
      },
      "source": [
        "For different datatypes in TensorFlow see [here](https://www.tensorflow.org/api_docs/python/tf/dtypes/DType)"
      ]
    },
    {
      "cell_type": "markdown",
      "metadata": {
        "id": "b84fCkM5qxqy"
      },
      "source": [
        "For different datatypes in PyTorch see [here](https://pytorch.org/docs/stable/tensors.html)"
      ]
    }
  ]
}